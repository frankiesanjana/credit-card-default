{
  "cells": [
    {
      "attachments": {},
      "cell_type": "markdown",
      "metadata": {
        "id": "0aStgWSO0E0E"
      },
      "source": [
        "# Notebook 02 - Data Cleaning"
      ]
    },
    {
      "attachments": {},
      "cell_type": "markdown",
      "metadata": {
        "id": "1eLEkw5O0ECa"
      },
      "source": [
        "## Objectives\n",
        "\n",
        "* Check data for duplicate entries\n",
        "* Determine whether there is any missing data\n",
        "* Assess column names for inconsistencies and determine how best to rename these\n",
        "* Assess whether any data needs to have its type changed or be aggregated or renamed\n",
        "* Consider whether any summary columns should be created to help determine correlation and PPS\n",
        "* Clean data\n",
        "* Develop a data cleaning pipeline for use on future data provided by the client\n",
        "\n",
        "## Inputs\n",
        "\n",
        "* CSV file generated in previous notebook: outputs/datasets/collection/credit_card_data.csv\n",
        "\n",
        "## Outputs\n",
        "\n",
        "* Cleaned data, to be stored in new folder outputs/datasets/cleaned/v1\n",
        "* Data cleaning pipeline\n",
        "\n",
        "## Conclusions\n",
        "\n",
        "* The data had no duplicate entries\n",
        "* The column `ID` was dropped since it is a unique customer identifier and has no relevance to the target variable\n",
        "* Column names were edited for consistency and clarity, as well as to conform to naming conventions\n",
        "* The data relating to customers' sex, education level and marital status was clarified and in doing so its `Dtype` changed so that it was recorded as an object rather than an integer\n",
        "* Since one of our hypotheses is that past default behaviour will be a strong indicator of future default behaviour, summary columns relating to previous default behaviour were created so that these can be tested for correlation and PPS in the data analysis notebook.\n"
      ]
    },
    {
      "attachments": {},
      "cell_type": "markdown",
      "metadata": {
        "id": "9uWZXH9LwoQg"
      },
      "source": [
        "---"
      ]
    },
    {
      "attachments": {},
      "cell_type": "markdown",
      "metadata": {
        "id": "cqP-UeN-z3i2"
      },
      "source": [
        "# Change working directory"
      ]
    },
    {
      "attachments": {},
      "cell_type": "markdown",
      "metadata": {},
      "source": [
        "* This notebook is stored in the `jupyter_notebooks` subfolder\n",
        "* The current working directory therefore needs to be changed to the workspace, i.e., the working directory needs to be changed from the current folder to its parent folder"
      ]
    },
    {
      "attachments": {},
      "cell_type": "markdown",
      "metadata": {
        "id": "aOGIGS-uz3i2"
      },
      "source": [
        "Firstly, the current directory is accessed with os.getcwd()"
      ]
    },
    {
      "cell_type": "code",
      "execution_count": 33,
      "metadata": {
        "id": "wZfF_j-Bz3i4",
        "outputId": "66943449-1436-4c3d-85c7-b85f9f78349b"
      },
      "outputs": [
        {
          "data": {
            "text/plain": [
              "'c:\\\\Users\\\\franc\\\\credit-card-default'"
            ]
          },
          "execution_count": 33,
          "metadata": {},
          "output_type": "execute_result"
        }
      ],
      "source": [
        "import os\n",
        "current_dir = os.getcwd()\n",
        "current_dir"
      ]
    },
    {
      "attachments": {},
      "cell_type": "markdown",
      "metadata": {
        "id": "9MWW8E7lz3i7"
      },
      "source": [
        "Next, the working directory is set as the parent of the current `jupyter_notebooks` directory\n",
        "* os.path.dirname() gets the parent directory\n",
        "* os.chir() defines the new current directory\n",
        "* This allows access to all the files and folders within the workspace, rather than solely those within the `jupyter_notebooks` directory"
      ]
    },
    {
      "cell_type": "code",
      "execution_count": 2,
      "metadata": {
        "id": "TwHsQRWjz3i9",
        "outputId": "86849db3-cd2f-4cc5-ebb8-2d0caafa1a2c"
      },
      "outputs": [
        {
          "name": "stdout",
          "output_type": "stream",
          "text": [
            "You set a new current directory\n"
          ]
        }
      ],
      "source": [
        "os.chdir(os.path.dirname(current_dir))\n",
        "print(\"You set a new current directory\")"
      ]
    },
    {
      "attachments": {},
      "cell_type": "markdown",
      "metadata": {
        "id": "M_xPk_Ijz3i-"
      },
      "source": [
        "Finally, confirm that the new current directory has been successfully set"
      ]
    },
    {
      "cell_type": "code",
      "execution_count": 3,
      "metadata": {
        "id": "vz3S-_kjz3jA",
        "outputId": "00b79ae4-75d0-4a96-d193-ac9ef9847ea2"
      },
      "outputs": [
        {
          "data": {
            "text/plain": [
              "'c:\\\\Users\\\\franc\\\\credit-card-default'"
            ]
          },
          "execution_count": 3,
          "metadata": {},
          "output_type": "execute_result"
        }
      ],
      "source": [
        "current_dir = os.getcwd()\n",
        "current_dir"
      ]
    },
    {
      "attachments": {},
      "cell_type": "markdown",
      "metadata": {},
      "source": [
        "---"
      ]
    },
    {
      "attachments": {},
      "cell_type": "markdown",
      "metadata": {
        "id": "-mavJ8DibrcQ"
      },
      "source": [
        "# Load data"
      ]
    },
    {
      "attachments": {},
      "cell_type": "markdown",
      "metadata": {},
      "source": [
        "The data is loaded from the outputs/datasets/collection folder:"
      ]
    },
    {
      "cell_type": "code",
      "execution_count": 45,
      "metadata": {},
      "outputs": [
        {
          "data": {
            "text/html": [
              "<div>\n",
              "<style scoped>\n",
              "    .dataframe tbody tr th:only-of-type {\n",
              "        vertical-align: middle;\n",
              "    }\n",
              "\n",
              "    .dataframe tbody tr th {\n",
              "        vertical-align: top;\n",
              "    }\n",
              "\n",
              "    .dataframe thead th {\n",
              "        text-align: right;\n",
              "    }\n",
              "</style>\n",
              "<table border=\"1\" class=\"dataframe\">\n",
              "  <thead>\n",
              "    <tr style=\"text-align: right;\">\n",
              "      <th></th>\n",
              "      <th>ID</th>\n",
              "      <th>LIMIT_BAL</th>\n",
              "      <th>SEX</th>\n",
              "      <th>EDUCATION</th>\n",
              "      <th>MARRIAGE</th>\n",
              "      <th>AGE</th>\n",
              "      <th>PAY_0</th>\n",
              "      <th>PAY_2</th>\n",
              "      <th>PAY_3</th>\n",
              "      <th>PAY_4</th>\n",
              "      <th>...</th>\n",
              "      <th>BILL_AMT4</th>\n",
              "      <th>BILL_AMT5</th>\n",
              "      <th>BILL_AMT6</th>\n",
              "      <th>PAY_AMT1</th>\n",
              "      <th>PAY_AMT2</th>\n",
              "      <th>PAY_AMT3</th>\n",
              "      <th>PAY_AMT4</th>\n",
              "      <th>PAY_AMT5</th>\n",
              "      <th>PAY_AMT6</th>\n",
              "      <th>default.payment.next.month</th>\n",
              "    </tr>\n",
              "  </thead>\n",
              "  <tbody>\n",
              "    <tr>\n",
              "      <th>0</th>\n",
              "      <td>1</td>\n",
              "      <td>20000.0</td>\n",
              "      <td>2</td>\n",
              "      <td>2</td>\n",
              "      <td>1</td>\n",
              "      <td>24</td>\n",
              "      <td>2</td>\n",
              "      <td>2</td>\n",
              "      <td>-1</td>\n",
              "      <td>-1</td>\n",
              "      <td>...</td>\n",
              "      <td>0.0</td>\n",
              "      <td>0.0</td>\n",
              "      <td>0.0</td>\n",
              "      <td>0.0</td>\n",
              "      <td>689.0</td>\n",
              "      <td>0.0</td>\n",
              "      <td>0.0</td>\n",
              "      <td>0.0</td>\n",
              "      <td>0.0</td>\n",
              "      <td>1</td>\n",
              "    </tr>\n",
              "    <tr>\n",
              "      <th>1</th>\n",
              "      <td>2</td>\n",
              "      <td>120000.0</td>\n",
              "      <td>2</td>\n",
              "      <td>2</td>\n",
              "      <td>2</td>\n",
              "      <td>26</td>\n",
              "      <td>-1</td>\n",
              "      <td>2</td>\n",
              "      <td>0</td>\n",
              "      <td>0</td>\n",
              "      <td>...</td>\n",
              "      <td>3272.0</td>\n",
              "      <td>3455.0</td>\n",
              "      <td>3261.0</td>\n",
              "      <td>0.0</td>\n",
              "      <td>1000.0</td>\n",
              "      <td>1000.0</td>\n",
              "      <td>1000.0</td>\n",
              "      <td>0.0</td>\n",
              "      <td>2000.0</td>\n",
              "      <td>1</td>\n",
              "    </tr>\n",
              "    <tr>\n",
              "      <th>2</th>\n",
              "      <td>3</td>\n",
              "      <td>90000.0</td>\n",
              "      <td>2</td>\n",
              "      <td>2</td>\n",
              "      <td>2</td>\n",
              "      <td>34</td>\n",
              "      <td>0</td>\n",
              "      <td>0</td>\n",
              "      <td>0</td>\n",
              "      <td>0</td>\n",
              "      <td>...</td>\n",
              "      <td>14331.0</td>\n",
              "      <td>14948.0</td>\n",
              "      <td>15549.0</td>\n",
              "      <td>1518.0</td>\n",
              "      <td>1500.0</td>\n",
              "      <td>1000.0</td>\n",
              "      <td>1000.0</td>\n",
              "      <td>1000.0</td>\n",
              "      <td>5000.0</td>\n",
              "      <td>0</td>\n",
              "    </tr>\n",
              "    <tr>\n",
              "      <th>3</th>\n",
              "      <td>4</td>\n",
              "      <td>50000.0</td>\n",
              "      <td>2</td>\n",
              "      <td>2</td>\n",
              "      <td>1</td>\n",
              "      <td>37</td>\n",
              "      <td>0</td>\n",
              "      <td>0</td>\n",
              "      <td>0</td>\n",
              "      <td>0</td>\n",
              "      <td>...</td>\n",
              "      <td>28314.0</td>\n",
              "      <td>28959.0</td>\n",
              "      <td>29547.0</td>\n",
              "      <td>2000.0</td>\n",
              "      <td>2019.0</td>\n",
              "      <td>1200.0</td>\n",
              "      <td>1100.0</td>\n",
              "      <td>1069.0</td>\n",
              "      <td>1000.0</td>\n",
              "      <td>0</td>\n",
              "    </tr>\n",
              "    <tr>\n",
              "      <th>4</th>\n",
              "      <td>5</td>\n",
              "      <td>50000.0</td>\n",
              "      <td>1</td>\n",
              "      <td>2</td>\n",
              "      <td>1</td>\n",
              "      <td>57</td>\n",
              "      <td>-1</td>\n",
              "      <td>0</td>\n",
              "      <td>-1</td>\n",
              "      <td>0</td>\n",
              "      <td>...</td>\n",
              "      <td>20940.0</td>\n",
              "      <td>19146.0</td>\n",
              "      <td>19131.0</td>\n",
              "      <td>2000.0</td>\n",
              "      <td>36681.0</td>\n",
              "      <td>10000.0</td>\n",
              "      <td>9000.0</td>\n",
              "      <td>689.0</td>\n",
              "      <td>679.0</td>\n",
              "      <td>0</td>\n",
              "    </tr>\n",
              "  </tbody>\n",
              "</table>\n",
              "<p>5 rows × 25 columns</p>\n",
              "</div>"
            ],
            "text/plain": [
              "   ID  LIMIT_BAL  SEX  EDUCATION  MARRIAGE  AGE  PAY_0  PAY_2  PAY_3  PAY_4  \\\n",
              "0   1    20000.0    2          2         1   24      2      2     -1     -1   \n",
              "1   2   120000.0    2          2         2   26     -1      2      0      0   \n",
              "2   3    90000.0    2          2         2   34      0      0      0      0   \n",
              "3   4    50000.0    2          2         1   37      0      0      0      0   \n",
              "4   5    50000.0    1          2         1   57     -1      0     -1      0   \n",
              "\n",
              "   ...  BILL_AMT4  BILL_AMT5  BILL_AMT6  PAY_AMT1  PAY_AMT2  PAY_AMT3  \\\n",
              "0  ...        0.0        0.0        0.0       0.0     689.0       0.0   \n",
              "1  ...     3272.0     3455.0     3261.0       0.0    1000.0    1000.0   \n",
              "2  ...    14331.0    14948.0    15549.0    1518.0    1500.0    1000.0   \n",
              "3  ...    28314.0    28959.0    29547.0    2000.0    2019.0    1200.0   \n",
              "4  ...    20940.0    19146.0    19131.0    2000.0   36681.0   10000.0   \n",
              "\n",
              "   PAY_AMT4  PAY_AMT5  PAY_AMT6  default.payment.next.month  \n",
              "0       0.0       0.0       0.0                           1  \n",
              "1    1000.0       0.0    2000.0                           1  \n",
              "2    1000.0    1000.0    5000.0                           0  \n",
              "3    1100.0    1069.0    1000.0                           0  \n",
              "4    9000.0     689.0     679.0                           0  \n",
              "\n",
              "[5 rows x 25 columns]"
            ]
          },
          "execution_count": 45,
          "metadata": {},
          "output_type": "execute_result"
        }
      ],
      "source": [
        "import pandas as pd\n",
        "df = pd.read_csv('outputs/datasets/collection/credit_card_data.csv')\n",
        "df.head()"
      ]
    },
    {
      "attachments": {},
      "cell_type": "markdown",
      "metadata": {
        "id": "ZY3l0-AxO93d"
      },
      "source": [
        "---"
      ]
    },
    {
      "attachments": {},
      "cell_type": "markdown",
      "metadata": {
        "id": "uFQo3ycuO-v6"
      },
      "source": [
        "# Data Examination"
      ]
    },
    {
      "attachments": {},
      "cell_type": "markdown",
      "metadata": {},
      "source": [
        "## Check for duplicate entries"
      ]
    },
    {
      "attachments": {},
      "cell_type": "markdown",
      "metadata": {},
      "source": [
        "Firstly, we want to check the data for any duplicate entries.\n",
        "* We know that the field `ID` corresponds to the customer ID\n",
        "* Unless a customer holds multiple credit cards, it should not therefore be possible for a customer to appear in the dataset multiple times"
      ]
    },
    {
      "cell_type": "code",
      "execution_count": 46,
      "metadata": {},
      "outputs": [
        {
          "data": {
            "text/html": [
              "<div>\n",
              "<style scoped>\n",
              "    .dataframe tbody tr th:only-of-type {\n",
              "        vertical-align: middle;\n",
              "    }\n",
              "\n",
              "    .dataframe tbody tr th {\n",
              "        vertical-align: top;\n",
              "    }\n",
              "\n",
              "    .dataframe thead th {\n",
              "        text-align: right;\n",
              "    }\n",
              "</style>\n",
              "<table border=\"1\" class=\"dataframe\">\n",
              "  <thead>\n",
              "    <tr style=\"text-align: right;\">\n",
              "      <th></th>\n",
              "      <th>ID</th>\n",
              "      <th>LIMIT_BAL</th>\n",
              "      <th>SEX</th>\n",
              "      <th>EDUCATION</th>\n",
              "      <th>MARRIAGE</th>\n",
              "      <th>AGE</th>\n",
              "      <th>PAY_0</th>\n",
              "      <th>PAY_2</th>\n",
              "      <th>PAY_3</th>\n",
              "      <th>PAY_4</th>\n",
              "      <th>...</th>\n",
              "      <th>BILL_AMT4</th>\n",
              "      <th>BILL_AMT5</th>\n",
              "      <th>BILL_AMT6</th>\n",
              "      <th>PAY_AMT1</th>\n",
              "      <th>PAY_AMT2</th>\n",
              "      <th>PAY_AMT3</th>\n",
              "      <th>PAY_AMT4</th>\n",
              "      <th>PAY_AMT5</th>\n",
              "      <th>PAY_AMT6</th>\n",
              "      <th>default.payment.next.month</th>\n",
              "    </tr>\n",
              "  </thead>\n",
              "  <tbody>\n",
              "  </tbody>\n",
              "</table>\n",
              "<p>0 rows × 25 columns</p>\n",
              "</div>"
            ],
            "text/plain": [
              "Empty DataFrame\n",
              "Columns: [ID, LIMIT_BAL, SEX, EDUCATION, MARRIAGE, AGE, PAY_0, PAY_2, PAY_3, PAY_4, PAY_5, PAY_6, BILL_AMT1, BILL_AMT2, BILL_AMT3, BILL_AMT4, BILL_AMT5, BILL_AMT6, PAY_AMT1, PAY_AMT2, PAY_AMT3, PAY_AMT4, PAY_AMT5, PAY_AMT6, default.payment.next.month]\n",
              "Index: []\n",
              "\n",
              "[0 rows x 25 columns]"
            ]
          },
          "execution_count": 46,
          "metadata": {},
          "output_type": "execute_result"
        }
      ],
      "source": [
        "df[df.duplicated(subset='ID')]"
      ]
    },
    {
      "attachments": {},
      "cell_type": "markdown",
      "metadata": {},
      "source": [
        "We see that there are no duplicate values recorded for `ID` and therefore we can assume that there are no duplicate values recorded in the dataset.\n",
        "* Since `ID` is a unique customer identifier and does not convey any meaning that could impact the target variable, it can be dropped from the dataset."
      ]
    },
    {
      "attachments": {},
      "cell_type": "markdown",
      "metadata": {},
      "source": [
        "## Check for missing data"
      ]
    },
    {
      "attachments": {},
      "cell_type": "markdown",
      "metadata": {},
      "source": [
        "Next, we check whether there is any missing data:"
      ]
    },
    {
      "cell_type": "code",
      "execution_count": 47,
      "metadata": {},
      "outputs": [
        {
          "data": {
            "text/plain": [
              "[]"
            ]
          },
          "execution_count": 47,
          "metadata": {},
          "output_type": "execute_result"
        }
      ],
      "source": [
        "vars_with_missing_data = df.columns[df.isna().any()].tolist()\n",
        "vars_with_missing_data"
      ]
    },
    {
      "attachments": {},
      "cell_type": "markdown",
      "metadata": {},
      "source": [
        "There is no missing data in the dataset and so data imputation will not be necessary."
      ]
    },
    {
      "attachments": {},
      "cell_type": "markdown",
      "metadata": {},
      "source": [
        "## Check column names"
      ]
    },
    {
      "attachments": {},
      "cell_type": "markdown",
      "metadata": {},
      "source": [
        "For consistency, it would be best for column names to use snake_case rather than any other naming convention.\n",
        "* The column names at present are in capitals, and the target variable uses dots rather than underscores:"
      ]
    },
    {
      "cell_type": "code",
      "execution_count": 48,
      "metadata": {},
      "outputs": [
        {
          "data": {
            "text/plain": [
              "['ID',\n",
              " 'LIMIT_BAL',\n",
              " 'SEX',\n",
              " 'EDUCATION',\n",
              " 'MARRIAGE',\n",
              " 'AGE',\n",
              " 'PAY_0',\n",
              " 'PAY_2',\n",
              " 'PAY_3',\n",
              " 'PAY_4',\n",
              " 'PAY_5',\n",
              " 'PAY_6',\n",
              " 'BILL_AMT1',\n",
              " 'BILL_AMT2',\n",
              " 'BILL_AMT3',\n",
              " 'BILL_AMT4',\n",
              " 'BILL_AMT5',\n",
              " 'BILL_AMT6',\n",
              " 'PAY_AMT1',\n",
              " 'PAY_AMT2',\n",
              " 'PAY_AMT3',\n",
              " 'PAY_AMT4',\n",
              " 'PAY_AMT5',\n",
              " 'PAY_AMT6',\n",
              " 'default.payment.next.month']"
            ]
          },
          "execution_count": 48,
          "metadata": {},
          "output_type": "execute_result"
        }
      ],
      "source": [
        "df.columns.to_list()"
      ]
    },
    {
      "attachments": {},
      "cell_type": "markdown",
      "metadata": {},
      "source": [
        "Viewing all the column names, it seems that it would also be helpful to rename them to improve consistency.\n",
        "* `PAY_0` relates to September 2005 repayment status, whereas this month's statement amount and previous payment amount are `BILL_AMT1` and `PAY_AMT1` (i.e., the latter two use a 1 rather than a 0)\n",
        "* It may also be useful to provide clearer naming to ensure clarity and avoid confusion.  \n",
        "  \n",
        "This will be addressed by defining a helper function to rename the columns and then calling it from within the data cleaning pipeline."
      ]
    },
    {
      "attachments": {},
      "cell_type": "markdown",
      "metadata": {},
      "source": [
        "## Check data types are appropriate and assess whether any data should be aggregated"
      ]
    },
    {
      "cell_type": "code",
      "execution_count": 49,
      "metadata": {},
      "outputs": [
        {
          "name": "stdout",
          "output_type": "stream",
          "text": [
            "<class 'pandas.core.frame.DataFrame'>\n",
            "RangeIndex: 30000 entries, 0 to 29999\n",
            "Data columns (total 25 columns):\n",
            " #   Column                      Non-Null Count  Dtype  \n",
            "---  ------                      --------------  -----  \n",
            " 0   ID                          30000 non-null  int64  \n",
            " 1   LIMIT_BAL                   30000 non-null  float64\n",
            " 2   SEX                         30000 non-null  int64  \n",
            " 3   EDUCATION                   30000 non-null  int64  \n",
            " 4   MARRIAGE                    30000 non-null  int64  \n",
            " 5   AGE                         30000 non-null  int64  \n",
            " 6   PAY_0                       30000 non-null  int64  \n",
            " 7   PAY_2                       30000 non-null  int64  \n",
            " 8   PAY_3                       30000 non-null  int64  \n",
            " 9   PAY_4                       30000 non-null  int64  \n",
            " 10  PAY_5                       30000 non-null  int64  \n",
            " 11  PAY_6                       30000 non-null  int64  \n",
            " 12  BILL_AMT1                   30000 non-null  float64\n",
            " 13  BILL_AMT2                   30000 non-null  float64\n",
            " 14  BILL_AMT3                   30000 non-null  float64\n",
            " 15  BILL_AMT4                   30000 non-null  float64\n",
            " 16  BILL_AMT5                   30000 non-null  float64\n",
            " 17  BILL_AMT6                   30000 non-null  float64\n",
            " 18  PAY_AMT1                    30000 non-null  float64\n",
            " 19  PAY_AMT2                    30000 non-null  float64\n",
            " 20  PAY_AMT3                    30000 non-null  float64\n",
            " 21  PAY_AMT4                    30000 non-null  float64\n",
            " 22  PAY_AMT5                    30000 non-null  float64\n",
            " 23  PAY_AMT6                    30000 non-null  float64\n",
            " 24  default.payment.next.month  30000 non-null  int64  \n",
            "dtypes: float64(13), int64(12)\n",
            "memory usage: 5.7 MB\n"
          ]
        }
      ],
      "source": [
        "df.info()"
      ]
    },
    {
      "attachments": {},
      "cell_type": "markdown",
      "metadata": {},
      "source": [
        "The columns `SEX`, `EDUCATION` and `MARRIAGE` are currently encoded as `int64`.\n",
        "* These would be more appropriately represented by objects.\n",
        "* It might be clearer to represent these data by their category names: sex as male or female, rather than 1 or 2, for example.\n",
        "* This will also allow for combination into a smaller number of categories; the data information table tells us that both 5 and 6 in the `EDUCATION` column correspond to 'unknown'.\n",
        "\n",
        "Again, this can be done by creating a helper function that is called from within the data cleaning pipeline."
      ]
    },
    {
      "attachments": {},
      "cell_type": "markdown",
      "metadata": {},
      "source": [
        "## Consider the creation of summary columns relating to past default behaviour"
      ]
    },
    {
      "attachments": {},
      "cell_type": "markdown",
      "metadata": {},
      "source": [
        "We have hypothesised that past default behaviour will be a strong indicator of future default behaviour\n",
        "* The columns `PAY_0` to `PAY_6` relate to default behaviour by month for a six-month period\n",
        "* However, it may be easier to show correlation if we consider this past six-month period as a whole, rather than examining the data for a correlation between default behaviour in any given month and default in the future\n",
        "* As such, it makes sense to create further columns and the following columns are created in the pipeline to be examined for correlation:\n",
        "    - A binary yes / no as to whether the customer has had any default behaviour in the period\n",
        "    - A crude measure of quantifying default behaviour by summing all positive values in the columns (negative values relate to non-default behaviour and should not be included)\n",
        "    - A crude measure of the most severe example of any default behaviour by taking the maximum value from these columns. For example, a payment that is 4 months late would yield a 4 in this column, whereas 4 separate delays of 1 month would produce a 1. This may help us to determine whether a customer who is (for example) 4 months late in paying is more or less likely to default in the future than a customer who misses a number of separate payments."
      ]
    },
    {
      "attachments": {},
      "cell_type": "markdown",
      "metadata": {},
      "source": [
        "---"
      ]
    },
    {
      "attachments": {},
      "cell_type": "markdown",
      "metadata": {},
      "source": [
        "# Data Cleaning Pipeline"
      ]
    },
    {
      "attachments": {},
      "cell_type": "markdown",
      "metadata": {},
      "source": [
        "To summarise the sections above, the steps to be undertaken within the data cleaning pipeline are:\n",
        "* Drop `ID` from the dataset\n",
        "* Rename the columns, both for clarity and consistency and to conform to snake_case naming convention\n",
        "* Replace numerical data representing objects with their object names, combining numbers where appropriate\n",
        "* Create three further columns named `any_default`, `total_default` and `greatest_default` that summarise customers' previous default behaviour\n",
        "  \n",
        "This is done here by creating a single data cleaning pipeline, so that future data can be easily managed in the same way.\n",
        "* First, the functions `rename_columns`, `clean_categorical_data` and `default_summary` are defined, so that they can be called from within the pipeline\n",
        "* Within the pipeline:\n",
        "    - we first use `DropFeatures` to drop `ID` from the dataset\n",
        "    - we then rename the remaining columns using `FunctionTransformer` and calling the `rename_columns` function\n",
        "    - the categorical data is replaced by using `FunctionTransformer` and calling the `clean_categorical_data` function\n",
        "    - finally, the three new columns are created by using `FunctionTransformer` and calling the `default_summary` function\n",
        "\n"
      ]
    },
    {
      "cell_type": "code",
      "execution_count": 1,
      "metadata": {},
      "outputs": [],
      "source": [
        "from sklearn.pipeline import Pipeline\n",
        "from sklearn.preprocessing import FunctionTransformer\n",
        "from feature_engine.selection import DropFeatures\n",
        "\n",
        "def rename_columns(X):\n",
        "    X.columns = ['credit_limit', 'sex', 'education', 'marital_status',\n",
        "                 'age', 'late_sep', 'late_aug', 'late_jul', 'late_jun',\n",
        "                 'late_may', 'late_apr', 'bill_sep', 'bill_aug',\n",
        "                 'bill_jul', 'bill_jun', 'bill_may', 'bill_apr',\n",
        "                 'prev_payment_sep', 'prev_payment_aug',\n",
        "                 'prev_payment_jul', 'prev_payment_jun',\n",
        "                 'prev_payment_may', 'prev_payment_apr',\n",
        "                 'default_next_month']\n",
        "    return X\n",
        "\n",
        "\n",
        "def clean_categorical_data(X):\n",
        "    sex_mapping = {1: \"male\", 2: \"female\"}\n",
        "    education_mapping = {1: \"graduate school\", 2: \"university\", 3: \"high school\", 4: \"other\", 5: \"unknown\", 6: \"unknown\"}\n",
        "    marital_status_mapping = {0: \"unknown\", 1: \"married\", 2: \"single\", 3: \"other\"}\n",
        "    X['sex'] = X['sex'].replace(sex_mapping)\n",
        "    X['education'] = X['education'].replace(education_mapping)\n",
        "    X['marital_status'] = X['marital_status'].replace(marital_status_mapping)\n",
        "    return X\n",
        "\n",
        "def default_summary(X):\n",
        "    X['any_default'] = X[['late_sep', 'late_aug', 'late_jul', 'late_jun',\n",
        "                 'late_may', 'late_apr']].gt(0).any(axis=1).astype(int)\n",
        "    X['total_default'] = X[['late_sep', 'late_aug', 'late_jul', 'late_jun',\n",
        "                 'late_may', 'late_apr']].clip(lower=0).sum(axis=1)\n",
        "    X['greatest_default'] = X[['late_sep', 'late_aug', 'late_jul', 'late_jun',\n",
        "                 'late_may', 'late_apr']].clip(lower=0).max(axis=1)\n",
        "    return X\n",
        "\n",
        "data_cleaning_pipeline = Pipeline([\n",
        "      ('drop',  DropFeatures(features_to_drop=['ID'])),\n",
        "      ('rename_columns', FunctionTransformer(rename_columns, validate=False)),\n",
        "      ('clean_categorical_data', FunctionTransformer(clean_categorical_data)),\n",
        "      ('add_default_summary', FunctionTransformer(default_summary)),\n",
        "])\n"
      ]
    },
    {
      "attachments": {},
      "cell_type": "markdown",
      "metadata": {},
      "source": [
        "After creating the pipeline, we can now apply it to the dataframe:"
      ]
    },
    {
      "cell_type": "code",
      "execution_count": 51,
      "metadata": {},
      "outputs": [],
      "source": [
        "df = data_cleaning_pipeline.fit_transform(df)"
      ]
    },
    {
      "attachments": {},
      "cell_type": "markdown",
      "metadata": {},
      "source": [
        "Finally, we check the dataframe to ensure that the pipeline has been applied successfully:"
      ]
    },
    {
      "attachments": {},
      "cell_type": "markdown",
      "metadata": {},
      "source": []
    },
    {
      "cell_type": "code",
      "execution_count": 52,
      "metadata": {},
      "outputs": [
        {
          "data": {
            "text/html": [
              "<div>\n",
              "<style scoped>\n",
              "    .dataframe tbody tr th:only-of-type {\n",
              "        vertical-align: middle;\n",
              "    }\n",
              "\n",
              "    .dataframe tbody tr th {\n",
              "        vertical-align: top;\n",
              "    }\n",
              "\n",
              "    .dataframe thead th {\n",
              "        text-align: right;\n",
              "    }\n",
              "</style>\n",
              "<table border=\"1\" class=\"dataframe\">\n",
              "  <thead>\n",
              "    <tr style=\"text-align: right;\">\n",
              "      <th></th>\n",
              "      <th>credit_limit</th>\n",
              "      <th>sex</th>\n",
              "      <th>education</th>\n",
              "      <th>marital_status</th>\n",
              "      <th>age</th>\n",
              "      <th>late_sep</th>\n",
              "      <th>late_aug</th>\n",
              "      <th>late_jul</th>\n",
              "      <th>late_jun</th>\n",
              "      <th>late_may</th>\n",
              "      <th>...</th>\n",
              "      <th>prev_payment_sep</th>\n",
              "      <th>prev_payment_aug</th>\n",
              "      <th>prev_payment_jul</th>\n",
              "      <th>prev_payment_jun</th>\n",
              "      <th>prev_payment_may</th>\n",
              "      <th>prev_payment_apr</th>\n",
              "      <th>default_next_month</th>\n",
              "      <th>any_default</th>\n",
              "      <th>total_default</th>\n",
              "      <th>greatest_default</th>\n",
              "    </tr>\n",
              "  </thead>\n",
              "  <tbody>\n",
              "    <tr>\n",
              "      <th>0</th>\n",
              "      <td>20000.0</td>\n",
              "      <td>female</td>\n",
              "      <td>university</td>\n",
              "      <td>married</td>\n",
              "      <td>24</td>\n",
              "      <td>2</td>\n",
              "      <td>2</td>\n",
              "      <td>-1</td>\n",
              "      <td>-1</td>\n",
              "      <td>-2</td>\n",
              "      <td>...</td>\n",
              "      <td>0.0</td>\n",
              "      <td>689.0</td>\n",
              "      <td>0.0</td>\n",
              "      <td>0.0</td>\n",
              "      <td>0.0</td>\n",
              "      <td>0.0</td>\n",
              "      <td>1</td>\n",
              "      <td>1</td>\n",
              "      <td>4</td>\n",
              "      <td>2</td>\n",
              "    </tr>\n",
              "    <tr>\n",
              "      <th>1</th>\n",
              "      <td>120000.0</td>\n",
              "      <td>female</td>\n",
              "      <td>university</td>\n",
              "      <td>single</td>\n",
              "      <td>26</td>\n",
              "      <td>-1</td>\n",
              "      <td>2</td>\n",
              "      <td>0</td>\n",
              "      <td>0</td>\n",
              "      <td>0</td>\n",
              "      <td>...</td>\n",
              "      <td>0.0</td>\n",
              "      <td>1000.0</td>\n",
              "      <td>1000.0</td>\n",
              "      <td>1000.0</td>\n",
              "      <td>0.0</td>\n",
              "      <td>2000.0</td>\n",
              "      <td>1</td>\n",
              "      <td>1</td>\n",
              "      <td>4</td>\n",
              "      <td>2</td>\n",
              "    </tr>\n",
              "    <tr>\n",
              "      <th>2</th>\n",
              "      <td>90000.0</td>\n",
              "      <td>female</td>\n",
              "      <td>university</td>\n",
              "      <td>single</td>\n",
              "      <td>34</td>\n",
              "      <td>0</td>\n",
              "      <td>0</td>\n",
              "      <td>0</td>\n",
              "      <td>0</td>\n",
              "      <td>0</td>\n",
              "      <td>...</td>\n",
              "      <td>1518.0</td>\n",
              "      <td>1500.0</td>\n",
              "      <td>1000.0</td>\n",
              "      <td>1000.0</td>\n",
              "      <td>1000.0</td>\n",
              "      <td>5000.0</td>\n",
              "      <td>0</td>\n",
              "      <td>0</td>\n",
              "      <td>0</td>\n",
              "      <td>0</td>\n",
              "    </tr>\n",
              "    <tr>\n",
              "      <th>3</th>\n",
              "      <td>50000.0</td>\n",
              "      <td>female</td>\n",
              "      <td>university</td>\n",
              "      <td>married</td>\n",
              "      <td>37</td>\n",
              "      <td>0</td>\n",
              "      <td>0</td>\n",
              "      <td>0</td>\n",
              "      <td>0</td>\n",
              "      <td>0</td>\n",
              "      <td>...</td>\n",
              "      <td>2000.0</td>\n",
              "      <td>2019.0</td>\n",
              "      <td>1200.0</td>\n",
              "      <td>1100.0</td>\n",
              "      <td>1069.0</td>\n",
              "      <td>1000.0</td>\n",
              "      <td>0</td>\n",
              "      <td>0</td>\n",
              "      <td>0</td>\n",
              "      <td>0</td>\n",
              "    </tr>\n",
              "    <tr>\n",
              "      <th>4</th>\n",
              "      <td>50000.0</td>\n",
              "      <td>male</td>\n",
              "      <td>university</td>\n",
              "      <td>married</td>\n",
              "      <td>57</td>\n",
              "      <td>-1</td>\n",
              "      <td>0</td>\n",
              "      <td>-1</td>\n",
              "      <td>0</td>\n",
              "      <td>0</td>\n",
              "      <td>...</td>\n",
              "      <td>2000.0</td>\n",
              "      <td>36681.0</td>\n",
              "      <td>10000.0</td>\n",
              "      <td>9000.0</td>\n",
              "      <td>689.0</td>\n",
              "      <td>679.0</td>\n",
              "      <td>0</td>\n",
              "      <td>0</td>\n",
              "      <td>0</td>\n",
              "      <td>0</td>\n",
              "    </tr>\n",
              "  </tbody>\n",
              "</table>\n",
              "<p>5 rows × 27 columns</p>\n",
              "</div>"
            ],
            "text/plain": [
              "   credit_limit     sex   education marital_status  age  late_sep  late_aug  \\\n",
              "0       20000.0  female  university        married   24         2         2   \n",
              "1      120000.0  female  university         single   26        -1         2   \n",
              "2       90000.0  female  university         single   34         0         0   \n",
              "3       50000.0  female  university        married   37         0         0   \n",
              "4       50000.0    male  university        married   57        -1         0   \n",
              "\n",
              "   late_jul  late_jun  late_may  ...  prev_payment_sep  prev_payment_aug  \\\n",
              "0        -1        -1        -2  ...               0.0             689.0   \n",
              "1         0         0         0  ...               0.0            1000.0   \n",
              "2         0         0         0  ...            1518.0            1500.0   \n",
              "3         0         0         0  ...            2000.0            2019.0   \n",
              "4        -1         0         0  ...            2000.0           36681.0   \n",
              "\n",
              "   prev_payment_jul  prev_payment_jun  prev_payment_may  prev_payment_apr  \\\n",
              "0               0.0               0.0               0.0               0.0   \n",
              "1            1000.0            1000.0               0.0            2000.0   \n",
              "2            1000.0            1000.0            1000.0            5000.0   \n",
              "3            1200.0            1100.0            1069.0            1000.0   \n",
              "4           10000.0            9000.0             689.0             679.0   \n",
              "\n",
              "   default_next_month  any_default  total_default  greatest_default  \n",
              "0                   1            1              4                 2  \n",
              "1                   1            1              4                 2  \n",
              "2                   0            0              0                 0  \n",
              "3                   0            0              0                 0  \n",
              "4                   0            0              0                 0  \n",
              "\n",
              "[5 rows x 27 columns]"
            ]
          },
          "execution_count": 52,
          "metadata": {},
          "output_type": "execute_result"
        }
      ],
      "source": [
        "df.head()"
      ]
    },
    {
      "attachments": {},
      "cell_type": "markdown",
      "metadata": {},
      "source": [
        "For completeness, we can also use `info` to view the column types and check that the columns `sex`, `education` and `marital_status` now have a `Dtype` of object:"
      ]
    },
    {
      "cell_type": "code",
      "execution_count": 53,
      "metadata": {},
      "outputs": [
        {
          "name": "stdout",
          "output_type": "stream",
          "text": [
            "<class 'pandas.core.frame.DataFrame'>\n",
            "RangeIndex: 30000 entries, 0 to 29999\n",
            "Data columns (total 27 columns):\n",
            " #   Column              Non-Null Count  Dtype  \n",
            "---  ------              --------------  -----  \n",
            " 0   credit_limit        30000 non-null  float64\n",
            " 1   sex                 30000 non-null  object \n",
            " 2   education           30000 non-null  object \n",
            " 3   marital_status      30000 non-null  object \n",
            " 4   age                 30000 non-null  int64  \n",
            " 5   late_sep            30000 non-null  int64  \n",
            " 6   late_aug            30000 non-null  int64  \n",
            " 7   late_jul            30000 non-null  int64  \n",
            " 8   late_jun            30000 non-null  int64  \n",
            " 9   late_may            30000 non-null  int64  \n",
            " 10  late_apr            30000 non-null  int64  \n",
            " 11  bill_sep            30000 non-null  float64\n",
            " 12  bill_aug            30000 non-null  float64\n",
            " 13  bill_jul            30000 non-null  float64\n",
            " 14  bill_jun            30000 non-null  float64\n",
            " 15  bill_may            30000 non-null  float64\n",
            " 16  bill_apr            30000 non-null  float64\n",
            " 17  prev_payment_sep    30000 non-null  float64\n",
            " 18  prev_payment_aug    30000 non-null  float64\n",
            " 19  prev_payment_jul    30000 non-null  float64\n",
            " 20  prev_payment_jun    30000 non-null  float64\n",
            " 21  prev_payment_may    30000 non-null  float64\n",
            " 22  prev_payment_apr    30000 non-null  float64\n",
            " 23  default_next_month  30000 non-null  int64  \n",
            " 24  any_default         30000 non-null  int32  \n",
            " 25  total_default       30000 non-null  int64  \n",
            " 26  greatest_default    30000 non-null  int64  \n",
            "dtypes: float64(13), int32(1), int64(10), object(3)\n",
            "memory usage: 6.1+ MB\n"
          ]
        }
      ],
      "source": [
        "df.info()"
      ]
    },
    {
      "attachments": {},
      "cell_type": "markdown",
      "metadata": {},
      "source": [
        "---"
      ]
    },
    {
      "attachments": {},
      "cell_type": "markdown",
      "metadata": {
        "id": "ltNetd085qHf"
      },
      "source": [
        "# Push files to Repo"
      ]
    },
    {
      "attachments": {},
      "cell_type": "markdown",
      "metadata": {},
      "source": [
        "The cleaned data is now saved in a new `outputs/datasets/cleaned/v1` folder."
      ]
    },
    {
      "cell_type": "code",
      "execution_count": 54,
      "metadata": {
        "id": "aKlnIozA4eQO",
        "outputId": "fd09bc1f-adb1-4511-f6ce-492a6af570c0"
      },
      "outputs": [
        {
          "name": "stdout",
          "output_type": "stream",
          "text": [
            "[WinError 183] Cannot create a file when that file already exists: 'outputs/datasets/cleaned/v1'\n"
          ]
        }
      ],
      "source": [
        "import os\n",
        "try:\n",
        "  os.makedirs(name='outputs/datasets/cleaned/v1')\n",
        "except Exception as e:\n",
        "  print(e)\n",
        "\n",
        "df.to_csv(f\"outputs/datasets/cleaned/v1/credit_card_data_cleaned.csv\", index=False)\n"
      ]
    },
    {
      "attachments": {},
      "cell_type": "markdown",
      "metadata": {},
      "source": [
        "Additionally, the data cleaning pipeline is saved so that it can be reused to clean new data as it is received from the client.\n",
        "* The pipeline is saved in a new folder, `outputs/ml_pipeline/data_cleaning/v1`"
      ]
    },
    {
      "cell_type": "code",
      "execution_count": 55,
      "metadata": {},
      "outputs": [
        {
          "name": "stdout",
          "output_type": "stream",
          "text": [
            "[WinError 183] Cannot create a file when that file already exists: 'outputs/ml_pipeline/data_cleaning/v1'\n"
          ]
        },
        {
          "data": {
            "text/plain": [
              "['outputs/ml_pipeline/data_cleaning/v1/data_cleaning_pipeline.pkl']"
            ]
          },
          "execution_count": 55,
          "metadata": {},
          "output_type": "execute_result"
        }
      ],
      "source": [
        "import joblib\n",
        "\n",
        "filepath = f\"outputs/ml_pipeline/data_cleaning/v1\"\n",
        "\n",
        "try:\n",
        "    os.makedirs(name=filepath)\n",
        "except Exception as e:\n",
        "    print(e)\n",
        "\n",
        "joblib.dump(value=data_cleaning_pipeline, filename=f\"{filepath}/data_cleaning_pipeline.pkl\")"
      ]
    }
  ],
  "metadata": {
    "accelerator": "GPU",
    "colab": {
      "name": "Data Practitioner Jupyter Notebook.ipynb",
      "provenance": [],
      "toc_visible": true
    },
    "interpreter": {
      "hash": "8b8334dab9339717f727a1deaf837b322d7a41c20d15cc86be99a8e69ceec8ce"
    },
    "kernelspec": {
      "display_name": "Python 3.8.12 64-bit ('3.8.12': pyenv)",
      "name": "python3"
    },
    "language_info": {
      "codemirror_mode": {
        "name": "ipython",
        "version": 3
      },
      "file_extension": ".py",
      "mimetype": "text/x-python",
      "name": "python",
      "nbconvert_exporter": "python",
      "pygments_lexer": "ipython3",
      "version": "3.8.12"
    },
    "orig_nbformat": 2
  },
  "nbformat": 4,
  "nbformat_minor": 2
}
