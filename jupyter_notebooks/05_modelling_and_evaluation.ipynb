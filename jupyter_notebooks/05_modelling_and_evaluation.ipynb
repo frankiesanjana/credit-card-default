{
  "cells": [
    {
      "attachments": {},
      "cell_type": "markdown",
      "metadata": {
        "id": "0aStgWSO0E0E"
      },
      "source": [
        "# Notebook 05 - Modelling and Evaluation"
      ]
    },
    {
      "attachments": {},
      "cell_type": "markdown",
      "metadata": {
        "id": "1eLEkw5O0ECa"
      },
      "source": [
        "## Objectives\n",
        "\n",
        "* Fit and evaluate a classification model that predicts whether or not an existing customer will default in the following month\n",
        "\n",
        "## Inputs\n",
        "\n",
        "* Data Cleaning pipeline\n",
        "* Feature Engineering pipeline\n",
        "\n",
        "## Outputs\n",
        "\n",
        "* Combined data cleaning and feature engineering pipeline\n",
        "* Test and train sets for the current split and target imbalance correction method\n",
        "* Pipelines 1, 2, 3 for modelling and hyperparameter optimisation\n",
        "* Feature importance plots 1, 2, 3 corresponding to the three pipelines\n",
        "\n",
        "## Additional Comments\n",
        "\n",
        "* We already have separate pipelines for data cleaning and feature engineering. However, for ease of use on future datasets, these can be combined into a single pipeline (note that the helper functions would need restating for future use)\n",
        "* This notebook contains three iterations of hyperparameter optimisation and modelling. As such, there are three modelling and hyperparameter optimisation pipelines and three corresponding feature importance plots."
      ]
    },
    {
      "attachments": {},
      "cell_type": "markdown",
      "metadata": {
        "id": "9uWZXH9LwoQg"
      },
      "source": [
        "---"
      ]
    },
    {
      "attachments": {},
      "cell_type": "markdown",
      "metadata": {
        "id": "cqP-UeN-z3i2"
      },
      "source": [
        "# Change working directory"
      ]
    },
    {
      "attachments": {},
      "cell_type": "markdown",
      "metadata": {},
      "source": [
        "* This notebook is stored in the `jupyter_notebooks` subfolder\n",
        "* The current working directory therefore needs to be changed to the workspace, i.e., the working directory needs to be changed from the current folder to its parent folder"
      ]
    },
    {
      "attachments": {},
      "cell_type": "markdown",
      "metadata": {
        "id": "aOGIGS-uz3i2"
      },
      "source": [
        "Firstly, the current directory is accessed with os.getcwd()"
      ]
    },
    {
      "cell_type": "code",
      "execution_count": 98,
      "metadata": {
        "id": "wZfF_j-Bz3i4",
        "outputId": "66943449-1436-4c3d-85c7-b85f9f78349b"
      },
      "outputs": [
        {
          "data": {
            "text/plain": [
              "'c:\\\\Users\\\\franc\\\\credit-card-default'"
            ]
          },
          "execution_count": 98,
          "metadata": {},
          "output_type": "execute_result"
        }
      ],
      "source": [
        "import os\n",
        "current_dir = os.getcwd()\n",
        "current_dir"
      ]
    },
    {
      "attachments": {},
      "cell_type": "markdown",
      "metadata": {
        "id": "9MWW8E7lz3i7"
      },
      "source": [
        "Next, the working directory is set as the parent of the current `jupyter_notebooks` directory\n",
        "* os.path.dirname() gets the parent directory\n",
        "* os.chir() defines the new current directory\n",
        "* This allows access to all the files and folders within the workspace, rather than solely those within the `jupyter_notebooks` directory"
      ]
    },
    {
      "cell_type": "code",
      "execution_count": 2,
      "metadata": {
        "id": "TwHsQRWjz3i9",
        "outputId": "86849db3-cd2f-4cc5-ebb8-2d0caafa1a2c"
      },
      "outputs": [
        {
          "name": "stdout",
          "output_type": "stream",
          "text": [
            "You set a new current directory\n"
          ]
        }
      ],
      "source": [
        "os.chdir(os.path.dirname(current_dir))\n",
        "print(\"You set a new current directory\")"
      ]
    },
    {
      "attachments": {},
      "cell_type": "markdown",
      "metadata": {
        "id": "M_xPk_Ijz3i-"
      },
      "source": [
        "Finally, confirm that the new current directory has been successfully set"
      ]
    },
    {
      "cell_type": "code",
      "execution_count": 3,
      "metadata": {
        "id": "vz3S-_kjz3jA",
        "outputId": "00b79ae4-75d0-4a96-d193-ac9ef9847ea2"
      },
      "outputs": [
        {
          "data": {
            "text/plain": [
              "'c:\\\\Users\\\\franc\\\\credit-card-default'"
            ]
          },
          "execution_count": 3,
          "metadata": {},
          "output_type": "execute_result"
        }
      ],
      "source": [
        "current_dir = os.getcwd()\n",
        "current_dir"
      ]
    },
    {
      "attachments": {},
      "cell_type": "markdown",
      "metadata": {},
      "source": [
        "---"
      ]
    },
    {
      "attachments": {},
      "cell_type": "markdown",
      "metadata": {
        "id": "-mavJ8DibrcQ"
      },
      "source": [
        "# Load data"
      ]
    },
    {
      "attachments": {},
      "cell_type": "markdown",
      "metadata": {},
      "source": [
        "The data is loaded from the outputs/datasets/collection folder:"
      ]
    },
    {
      "cell_type": "code",
      "execution_count": 114,
      "metadata": {},
      "outputs": [
        {
          "data": {
            "text/html": [
              "<div>\n",
              "<style scoped>\n",
              "    .dataframe tbody tr th:only-of-type {\n",
              "        vertical-align: middle;\n",
              "    }\n",
              "\n",
              "    .dataframe tbody tr th {\n",
              "        vertical-align: top;\n",
              "    }\n",
              "\n",
              "    .dataframe thead th {\n",
              "        text-align: right;\n",
              "    }\n",
              "</style>\n",
              "<table border=\"1\" class=\"dataframe\">\n",
              "  <thead>\n",
              "    <tr style=\"text-align: right;\">\n",
              "      <th></th>\n",
              "      <th>ID</th>\n",
              "      <th>LIMIT_BAL</th>\n",
              "      <th>SEX</th>\n",
              "      <th>EDUCATION</th>\n",
              "      <th>MARRIAGE</th>\n",
              "      <th>AGE</th>\n",
              "      <th>PAY_0</th>\n",
              "      <th>PAY_2</th>\n",
              "      <th>PAY_3</th>\n",
              "      <th>PAY_4</th>\n",
              "      <th>...</th>\n",
              "      <th>BILL_AMT4</th>\n",
              "      <th>BILL_AMT5</th>\n",
              "      <th>BILL_AMT6</th>\n",
              "      <th>PAY_AMT1</th>\n",
              "      <th>PAY_AMT2</th>\n",
              "      <th>PAY_AMT3</th>\n",
              "      <th>PAY_AMT4</th>\n",
              "      <th>PAY_AMT5</th>\n",
              "      <th>PAY_AMT6</th>\n",
              "      <th>default.payment.next.month</th>\n",
              "    </tr>\n",
              "  </thead>\n",
              "  <tbody>\n",
              "    <tr>\n",
              "      <th>0</th>\n",
              "      <td>1</td>\n",
              "      <td>20000.0</td>\n",
              "      <td>2</td>\n",
              "      <td>2</td>\n",
              "      <td>1</td>\n",
              "      <td>24</td>\n",
              "      <td>2</td>\n",
              "      <td>2</td>\n",
              "      <td>-1</td>\n",
              "      <td>-1</td>\n",
              "      <td>...</td>\n",
              "      <td>0.0</td>\n",
              "      <td>0.0</td>\n",
              "      <td>0.0</td>\n",
              "      <td>0.0</td>\n",
              "      <td>689.0</td>\n",
              "      <td>0.0</td>\n",
              "      <td>0.0</td>\n",
              "      <td>0.0</td>\n",
              "      <td>0.0</td>\n",
              "      <td>1</td>\n",
              "    </tr>\n",
              "    <tr>\n",
              "      <th>1</th>\n",
              "      <td>2</td>\n",
              "      <td>120000.0</td>\n",
              "      <td>2</td>\n",
              "      <td>2</td>\n",
              "      <td>2</td>\n",
              "      <td>26</td>\n",
              "      <td>-1</td>\n",
              "      <td>2</td>\n",
              "      <td>0</td>\n",
              "      <td>0</td>\n",
              "      <td>...</td>\n",
              "      <td>3272.0</td>\n",
              "      <td>3455.0</td>\n",
              "      <td>3261.0</td>\n",
              "      <td>0.0</td>\n",
              "      <td>1000.0</td>\n",
              "      <td>1000.0</td>\n",
              "      <td>1000.0</td>\n",
              "      <td>0.0</td>\n",
              "      <td>2000.0</td>\n",
              "      <td>1</td>\n",
              "    </tr>\n",
              "    <tr>\n",
              "      <th>2</th>\n",
              "      <td>3</td>\n",
              "      <td>90000.0</td>\n",
              "      <td>2</td>\n",
              "      <td>2</td>\n",
              "      <td>2</td>\n",
              "      <td>34</td>\n",
              "      <td>0</td>\n",
              "      <td>0</td>\n",
              "      <td>0</td>\n",
              "      <td>0</td>\n",
              "      <td>...</td>\n",
              "      <td>14331.0</td>\n",
              "      <td>14948.0</td>\n",
              "      <td>15549.0</td>\n",
              "      <td>1518.0</td>\n",
              "      <td>1500.0</td>\n",
              "      <td>1000.0</td>\n",
              "      <td>1000.0</td>\n",
              "      <td>1000.0</td>\n",
              "      <td>5000.0</td>\n",
              "      <td>0</td>\n",
              "    </tr>\n",
              "    <tr>\n",
              "      <th>3</th>\n",
              "      <td>4</td>\n",
              "      <td>50000.0</td>\n",
              "      <td>2</td>\n",
              "      <td>2</td>\n",
              "      <td>1</td>\n",
              "      <td>37</td>\n",
              "      <td>0</td>\n",
              "      <td>0</td>\n",
              "      <td>0</td>\n",
              "      <td>0</td>\n",
              "      <td>...</td>\n",
              "      <td>28314.0</td>\n",
              "      <td>28959.0</td>\n",
              "      <td>29547.0</td>\n",
              "      <td>2000.0</td>\n",
              "      <td>2019.0</td>\n",
              "      <td>1200.0</td>\n",
              "      <td>1100.0</td>\n",
              "      <td>1069.0</td>\n",
              "      <td>1000.0</td>\n",
              "      <td>0</td>\n",
              "    </tr>\n",
              "    <tr>\n",
              "      <th>4</th>\n",
              "      <td>5</td>\n",
              "      <td>50000.0</td>\n",
              "      <td>1</td>\n",
              "      <td>2</td>\n",
              "      <td>1</td>\n",
              "      <td>57</td>\n",
              "      <td>-1</td>\n",
              "      <td>0</td>\n",
              "      <td>-1</td>\n",
              "      <td>0</td>\n",
              "      <td>...</td>\n",
              "      <td>20940.0</td>\n",
              "      <td>19146.0</td>\n",
              "      <td>19131.0</td>\n",
              "      <td>2000.0</td>\n",
              "      <td>36681.0</td>\n",
              "      <td>10000.0</td>\n",
              "      <td>9000.0</td>\n",
              "      <td>689.0</td>\n",
              "      <td>679.0</td>\n",
              "      <td>0</td>\n",
              "    </tr>\n",
              "  </tbody>\n",
              "</table>\n",
              "<p>5 rows × 25 columns</p>\n",
              "</div>"
            ],
            "text/plain": [
              "   ID  LIMIT_BAL  SEX  EDUCATION  MARRIAGE  AGE  PAY_0  PAY_2  PAY_3  PAY_4  \\\n",
              "0   1    20000.0    2          2         1   24      2      2     -1     -1   \n",
              "1   2   120000.0    2          2         2   26     -1      2      0      0   \n",
              "2   3    90000.0    2          2         2   34      0      0      0      0   \n",
              "3   4    50000.0    2          2         1   37      0      0      0      0   \n",
              "4   5    50000.0    1          2         1   57     -1      0     -1      0   \n",
              "\n",
              "   ...  BILL_AMT4  BILL_AMT5  BILL_AMT6  PAY_AMT1  PAY_AMT2  PAY_AMT3  \\\n",
              "0  ...        0.0        0.0        0.0       0.0     689.0       0.0   \n",
              "1  ...     3272.0     3455.0     3261.0       0.0    1000.0    1000.0   \n",
              "2  ...    14331.0    14948.0    15549.0    1518.0    1500.0    1000.0   \n",
              "3  ...    28314.0    28959.0    29547.0    2000.0    2019.0    1200.0   \n",
              "4  ...    20940.0    19146.0    19131.0    2000.0   36681.0   10000.0   \n",
              "\n",
              "   PAY_AMT4  PAY_AMT5  PAY_AMT6  default.payment.next.month  \n",
              "0       0.0       0.0       0.0                           1  \n",
              "1    1000.0       0.0    2000.0                           1  \n",
              "2    1000.0    1000.0    5000.0                           0  \n",
              "3    1100.0    1069.0    1000.0                           0  \n",
              "4    9000.0     689.0     679.0                           0  \n",
              "\n",
              "[5 rows x 25 columns]"
            ]
          },
          "execution_count": 114,
          "metadata": {},
          "output_type": "execute_result"
        }
      ],
      "source": [
        "import pandas as pd\n",
        "df = pd.read_csv('outputs/datasets/collection/credit_card_data.csv')\n",
        "df.head()"
      ]
    },
    {
      "attachments": {},
      "cell_type": "markdown",
      "metadata": {
        "id": "ZY3l0-AxO93d"
      },
      "source": [
        "---"
      ]
    },
    {
      "attachments": {},
      "cell_type": "markdown",
      "metadata": {
        "id": "uFQo3ycuO-v6"
      },
      "source": [
        "# ML pipeline for data cleaning and feature engineering"
      ]
    },
    {
      "attachments": {},
      "cell_type": "markdown",
      "metadata": {},
      "source": [
        "Here our existing data cleaning and feature engineering pipelines are combined into a single pipeline:"
      ]
    },
    {
      "cell_type": "code",
      "execution_count": 115,
      "metadata": {},
      "outputs": [],
      "source": [
        "from sklearn.pipeline import Pipeline\n",
        "from sklearn.preprocessing import FunctionTransformer\n",
        "from feature_engine.selection import DropFeatures\n",
        "from feature_engine.encoding import OneHotEncoder\n",
        "\n",
        "\n",
        "def rename_columns(X):\n",
        "    X.columns = ['credit_limit', 'sex', 'education', 'marital_status',\n",
        "                 'age', 'late_sep', 'late_aug', 'late_jul', 'late_jun',\n",
        "                 'late_may', 'late_apr', 'bill_sep', 'bill_aug',\n",
        "                 'bill_jul', 'bill_jun', 'bill_may', 'bill_apr',\n",
        "                 'prev_payment_sep', 'prev_payment_aug',\n",
        "                 'prev_payment_jul', 'prev_payment_jun',\n",
        "                 'prev_payment_may', 'prev_payment_apr',\n",
        "                 'default_next_month']\n",
        "    return X\n",
        "\n",
        "\n",
        "def clean_categorical_data(X):\n",
        "    sex_mapping = {1: \"male\", 2: \"female\"}\n",
        "    education_mapping = {1: \"graduate school\", 2: \"university\", 3: \"high school\", 4: \"other\", 5: \"unknown\", 6: \"unknown\"}\n",
        "    marital_status_mapping = {0: \"unknown\", 1: \"married\", 2: \"single\", 3: \"other\"}\n",
        "    X['sex'] = X['sex'].replace(sex_mapping)\n",
        "    X['education'] = X['education'].replace(education_mapping)\n",
        "    X['marital_status'] = X['marital_status'].replace(marital_status_mapping)\n",
        "    return X\n",
        "\n",
        "\n",
        "def default_summary(X):\n",
        "    X['any_default'] = X[['late_sep', 'late_aug', 'late_jul', 'late_jun',\n",
        "                 'late_may', 'late_apr']].gt(0).any(axis=1).astype(int)\n",
        "    X['total_default'] = X[['late_sep', 'late_aug', 'late_jul', 'late_jun',\n",
        "                 'late_may', 'late_apr']].clip(lower=0).sum(axis=1)\n",
        "    X['greatest_default'] = X[['late_sep', 'late_aug', 'late_jul', 'late_jun',\n",
        "                 'late_may', 'late_apr']].clip(lower=0).max(axis=1)\n",
        "    return X\n",
        "\n",
        "\n",
        "def ordinal_encode_education(X):\n",
        "    X['education'] = X['education'].map(education_map)\n",
        "    X['education'] = X['education'].fillna(0)\n",
        "    return X\n",
        "\n",
        "variables_ohe = ['sex', 'marital_status']\n",
        "\n",
        "education_map = {\n",
        "    '0': 0,\n",
        "    'other': 0,\n",
        "    'unknown': 0,\n",
        "    'high school': 1,\n",
        "    'university': 2,\n",
        "    'graduate school': 3\n",
        "}\n",
        "\n",
        "data_cleaning_and_feature_engineering_pipeline = Pipeline([\n",
        "      ('drop',  DropFeatures(features_to_drop=['ID'])),\n",
        "      ('rename_columns', FunctionTransformer(rename_columns, validate=False)),\n",
        "      ('clean_categorical_data', FunctionTransformer(clean_categorical_data)),\n",
        "      ('add_default_summary', FunctionTransformer(default_summary)),\n",
        "      ('one_hot_encode', OneHotEncoder(variables=variables_ohe, drop_last=True)),\n",
        "      ('ordinal_encode', FunctionTransformer(ordinal_encode_education)),\n",
        "      ('drop_after_cleaning',  DropFeatures(features_to_drop=['late_sep', 'late_aug', 'late_jun',\n",
        "                                               'late_may', 'late_apr', 'bill_aug', \n",
        "                                               'bill_jul', 'bill_jun', 'bill_may', \n",
        "                                               'bill_apr', 'any_default', 'greatest_default',\n",
        "                                               'marital_status_married'])),\n",
        "])"
      ]
    },
    {
      "attachments": {},
      "cell_type": "markdown",
      "metadata": {},
      "source": [
        "---"
      ]
    },
    {
      "attachments": {},
      "cell_type": "markdown",
      "metadata": {},
      "source": [
        "# ML Pipeline for Modelling and Hyperparameter Optimisation"
      ]
    },
    {
      "cell_type": "code",
      "execution_count": 116,
      "metadata": {},
      "outputs": [],
      "source": [
        "# Feature Scaling\n",
        "from sklearn.preprocessing import StandardScaler\n",
        "\n",
        "# Feature Selection\n",
        "from sklearn.feature_selection import SelectFromModel\n",
        "\n",
        "# ML algorithms\n",
        "from sklearn.linear_model import LogisticRegression\n",
        "from sklearn.tree import DecisionTreeClassifier\n",
        "from sklearn.ensemble import RandomForestClassifier\n",
        "from sklearn.ensemble import GradientBoostingClassifier\n",
        "from sklearn.ensemble import ExtraTreesClassifier\n",
        "from sklearn.ensemble import AdaBoostClassifier\n",
        "from sklearn.naive_bayes import BernoulliNB\n",
        "from sklearn.svm import LinearSVC\n",
        "from xgboost import XGBClassifier\n",
        "\n",
        "\n",
        "def PipelineClf(model):\n",
        "    pipeline_base = Pipeline([\n",
        "        (\"scaler\", StandardScaler()),\n",
        "        (\"feat_selection\", SelectFromModel(model)),\n",
        "        (\"model\", model),\n",
        "    ])\n",
        "\n",
        "    return pipeline_base"
      ]
    },
    {
      "attachments": {},
      "cell_type": "markdown",
      "metadata": {},
      "source": [
        "Custom Class for Hyperparameter Optimisation, taken from CI's WP02:"
      ]
    },
    {
      "cell_type": "code",
      "execution_count": 117,
      "metadata": {},
      "outputs": [],
      "source": [
        "from sklearn.model_selection import GridSearchCV\n",
        "\n",
        "\n",
        "class HyperparameterOptimizationSearch:\n",
        "\n",
        "    def __init__(self, models, params):\n",
        "        self.models = models\n",
        "        self.params = params\n",
        "        self.keys = models.keys()\n",
        "        self.grid_searches = {}\n",
        "\n",
        "    def fit(self, X, y, cv, n_jobs, verbose=1, scoring=None, refit=False):\n",
        "        for key in self.keys:\n",
        "            print(f\"\\nRunning GridSearchCV for {key} \\n\")\n",
        "\n",
        "            model = PipelineClf(self.models[key])\n",
        "            params = self.params[key]\n",
        "            gs = GridSearchCV(model, params, cv=cv, n_jobs=n_jobs,\n",
        "                              verbose=verbose, scoring=scoring, )\n",
        "            gs.fit(X, y)\n",
        "            self.grid_searches[key] = gs\n",
        "\n",
        "    def score_summary(self, sort_by='mean_score'):\n",
        "        def row(key, scores, params):\n",
        "            d = {\n",
        "                'estimator': key,\n",
        "                'min_score': min(scores),\n",
        "                'max_score': max(scores),\n",
        "                'mean_score': np.mean(scores),\n",
        "                'std_score': np.std(scores),\n",
        "            }\n",
        "            return pd.Series({**params, **d})\n",
        "\n",
        "        rows = []\n",
        "        for k in self.grid_searches:\n",
        "            params = self.grid_searches[k].cv_results_['params']\n",
        "            scores = []\n",
        "            for i in range(self.grid_searches[k].cv):\n",
        "                key = \"split{}_test_score\".format(i)\n",
        "                r = self.grid_searches[k].cv_results_[key]\n",
        "                scores.append(r.reshape(len(params), 1))\n",
        "\n",
        "            all_scores = np.hstack(scores)\n",
        "            for p, s in zip(params, all_scores):\n",
        "                rows.append((row(k, s, p)))\n",
        "\n",
        "        df = pd.concat(rows, axis=1).T.sort_values([sort_by], ascending=False)\n",
        "        columns = ['estimator', 'min_score',\n",
        "                   'mean_score', 'max_score', 'std_score']\n",
        "        columns = columns + [c for c in df.columns if c not in columns]\n",
        "        return df[columns], self.grid_searches\n"
      ]
    },
    {
      "attachments": {},
      "cell_type": "markdown",
      "metadata": {},
      "source": [
        "---"
      ]
    },
    {
      "attachments": {},
      "cell_type": "markdown",
      "metadata": {},
      "source": [
        "# Prepare Data for Modelling"
      ]
    },
    {
      "attachments": {},
      "cell_type": "markdown",
      "metadata": {},
      "source": [
        "## Apply data cleaning and feature engineering pipeline"
      ]
    },
    {
      "attachments": {},
      "cell_type": "markdown",
      "metadata": {},
      "source": [
        "Since the feature engineering processes for this dataset cannot introduce any bias or data leakage, it is possible (and requires less code) to apply the data cleaning and feature engineering pipeline to the entire dataframe before splitting it into test and train sets:"
      ]
    },
    {
      "cell_type": "code",
      "execution_count": 118,
      "metadata": {},
      "outputs": [
        {
          "data": {
            "text/html": [
              "<div>\n",
              "<style scoped>\n",
              "    .dataframe tbody tr th:only-of-type {\n",
              "        vertical-align: middle;\n",
              "    }\n",
              "\n",
              "    .dataframe tbody tr th {\n",
              "        vertical-align: top;\n",
              "    }\n",
              "\n",
              "    .dataframe thead th {\n",
              "        text-align: right;\n",
              "    }\n",
              "</style>\n",
              "<table border=\"1\" class=\"dataframe\">\n",
              "  <thead>\n",
              "    <tr style=\"text-align: right;\">\n",
              "      <th></th>\n",
              "      <th>credit_limit</th>\n",
              "      <th>education</th>\n",
              "      <th>age</th>\n",
              "      <th>late_jul</th>\n",
              "      <th>bill_sep</th>\n",
              "      <th>prev_payment_sep</th>\n",
              "      <th>prev_payment_aug</th>\n",
              "      <th>prev_payment_jul</th>\n",
              "      <th>prev_payment_jun</th>\n",
              "      <th>prev_payment_may</th>\n",
              "      <th>prev_payment_apr</th>\n",
              "      <th>default_next_month</th>\n",
              "      <th>total_default</th>\n",
              "      <th>sex_female</th>\n",
              "      <th>marital_status_single</th>\n",
              "      <th>marital_status_other</th>\n",
              "    </tr>\n",
              "  </thead>\n",
              "  <tbody>\n",
              "    <tr>\n",
              "      <th>0</th>\n",
              "      <td>20000.0</td>\n",
              "      <td>2.0</td>\n",
              "      <td>24</td>\n",
              "      <td>-1</td>\n",
              "      <td>3913.0</td>\n",
              "      <td>0.0</td>\n",
              "      <td>689.0</td>\n",
              "      <td>0.0</td>\n",
              "      <td>0.0</td>\n",
              "      <td>0.0</td>\n",
              "      <td>0.0</td>\n",
              "      <td>1</td>\n",
              "      <td>4</td>\n",
              "      <td>1</td>\n",
              "      <td>0</td>\n",
              "      <td>0</td>\n",
              "    </tr>\n",
              "    <tr>\n",
              "      <th>1</th>\n",
              "      <td>120000.0</td>\n",
              "      <td>2.0</td>\n",
              "      <td>26</td>\n",
              "      <td>0</td>\n",
              "      <td>2682.0</td>\n",
              "      <td>0.0</td>\n",
              "      <td>1000.0</td>\n",
              "      <td>1000.0</td>\n",
              "      <td>1000.0</td>\n",
              "      <td>0.0</td>\n",
              "      <td>2000.0</td>\n",
              "      <td>1</td>\n",
              "      <td>4</td>\n",
              "      <td>1</td>\n",
              "      <td>1</td>\n",
              "      <td>0</td>\n",
              "    </tr>\n",
              "    <tr>\n",
              "      <th>2</th>\n",
              "      <td>90000.0</td>\n",
              "      <td>2.0</td>\n",
              "      <td>34</td>\n",
              "      <td>0</td>\n",
              "      <td>29239.0</td>\n",
              "      <td>1518.0</td>\n",
              "      <td>1500.0</td>\n",
              "      <td>1000.0</td>\n",
              "      <td>1000.0</td>\n",
              "      <td>1000.0</td>\n",
              "      <td>5000.0</td>\n",
              "      <td>0</td>\n",
              "      <td>0</td>\n",
              "      <td>1</td>\n",
              "      <td>1</td>\n",
              "      <td>0</td>\n",
              "    </tr>\n",
              "    <tr>\n",
              "      <th>3</th>\n",
              "      <td>50000.0</td>\n",
              "      <td>2.0</td>\n",
              "      <td>37</td>\n",
              "      <td>0</td>\n",
              "      <td>46990.0</td>\n",
              "      <td>2000.0</td>\n",
              "      <td>2019.0</td>\n",
              "      <td>1200.0</td>\n",
              "      <td>1100.0</td>\n",
              "      <td>1069.0</td>\n",
              "      <td>1000.0</td>\n",
              "      <td>0</td>\n",
              "      <td>0</td>\n",
              "      <td>1</td>\n",
              "      <td>0</td>\n",
              "      <td>0</td>\n",
              "    </tr>\n",
              "    <tr>\n",
              "      <th>4</th>\n",
              "      <td>50000.0</td>\n",
              "      <td>2.0</td>\n",
              "      <td>57</td>\n",
              "      <td>-1</td>\n",
              "      <td>8617.0</td>\n",
              "      <td>2000.0</td>\n",
              "      <td>36681.0</td>\n",
              "      <td>10000.0</td>\n",
              "      <td>9000.0</td>\n",
              "      <td>689.0</td>\n",
              "      <td>679.0</td>\n",
              "      <td>0</td>\n",
              "      <td>0</td>\n",
              "      <td>0</td>\n",
              "      <td>0</td>\n",
              "      <td>0</td>\n",
              "    </tr>\n",
              "  </tbody>\n",
              "</table>\n",
              "</div>"
            ],
            "text/plain": [
              "   credit_limit  education  age  late_jul  bill_sep  prev_payment_sep  \\\n",
              "0       20000.0        2.0   24        -1    3913.0               0.0   \n",
              "1      120000.0        2.0   26         0    2682.0               0.0   \n",
              "2       90000.0        2.0   34         0   29239.0            1518.0   \n",
              "3       50000.0        2.0   37         0   46990.0            2000.0   \n",
              "4       50000.0        2.0   57        -1    8617.0            2000.0   \n",
              "\n",
              "   prev_payment_aug  prev_payment_jul  prev_payment_jun  prev_payment_may  \\\n",
              "0             689.0               0.0               0.0               0.0   \n",
              "1            1000.0            1000.0            1000.0               0.0   \n",
              "2            1500.0            1000.0            1000.0            1000.0   \n",
              "3            2019.0            1200.0            1100.0            1069.0   \n",
              "4           36681.0           10000.0            9000.0             689.0   \n",
              "\n",
              "   prev_payment_apr  default_next_month  total_default  sex_female  \\\n",
              "0               0.0                   1              4           1   \n",
              "1            2000.0                   1              4           1   \n",
              "2            5000.0                   0              0           1   \n",
              "3            1000.0                   0              0           1   \n",
              "4             679.0                   0              0           0   \n",
              "\n",
              "   marital_status_single  marital_status_other  \n",
              "0                      0                     0  \n",
              "1                      1                     0  \n",
              "2                      1                     0  \n",
              "3                      0                     0  \n",
              "4                      0                     0  "
            ]
          },
          "execution_count": 118,
          "metadata": {},
          "output_type": "execute_result"
        }
      ],
      "source": [
        "df = data_cleaning_and_feature_engineering_pipeline.fit_transform(df)\n",
        "df.head()"
      ]
    },
    {
      "attachments": {},
      "cell_type": "markdown",
      "metadata": {},
      "source": [
        "## Split data into train and test set"
      ]
    },
    {
      "attachments": {},
      "cell_type": "markdown",
      "metadata": {},
      "source": [
        "Split train and test set. Note that by keeping `random_state` the same value as in the previous notebook, we can be sure to split the data in exactly the same way.\n",
        "* We inspect the shape of each of `X_train`, `y_train`, `X_test` and `y_test` as a check that the split has worked correctly"
      ]
    },
    {
      "cell_type": "code",
      "execution_count": 119,
      "metadata": {},
      "outputs": [
        {
          "name": "stdout",
          "output_type": "stream",
          "text": [
            "(24000, 15) (24000,) (6000, 15) (6000,)\n"
          ]
        }
      ],
      "source": [
        "from sklearn.model_selection import train_test_split\n",
        "X_train, X_test, y_train, y_test = train_test_split(\n",
        "    df.drop(['default_next_month'], axis=1),\n",
        "    df['default_next_month'],\n",
        "    test_size=0.2,\n",
        "    random_state=42,\n",
        ")\n",
        "\n",
        "print(X_train.shape, y_train.shape, X_test.shape, y_test.shape)\n"
      ]
    },
    {
      "cell_type": "code",
      "execution_count": 120,
      "metadata": {},
      "outputs": [
        {
          "data": {
            "text/plain": [
              "21753    0\n",
              "251      0\n",
              "22941    0\n",
              "618      0\n",
              "17090    0\n",
              "Name: default_next_month, dtype: int64"
            ]
          },
          "execution_count": 120,
          "metadata": {},
          "output_type": "execute_result"
        }
      ],
      "source": [
        "y_train.head()"
      ]
    },
    {
      "attachments": {},
      "cell_type": "markdown",
      "metadata": {},
      "source": [
        "## Handle Target Imbalance"
      ]
    },
    {
      "attachments": {},
      "cell_type": "markdown",
      "metadata": {},
      "source": [
        "First, we check the distribution of the train set target:"
      ]
    },
    {
      "cell_type": "code",
      "execution_count": 121,
      "metadata": {},
      "outputs": [
        {
          "data": {
            "image/png": "[encoded data removed]",
            "text/plain": [
              "<Figure size 640x480 with 1 Axes>"
            ]
          },
          "metadata": {},
          "output_type": "display_data"
        }
      ],
      "source": [
        "import matplotlib.pyplot as plt\n",
        "import seaborn as sns\n",
        "sns.set_style(\"whitegrid\")\n",
        "y_train.value_counts().plot(kind='bar', title='Train Set Target Distribution')\n",
        "plt.show()"
      ]
    },
    {
      "attachments": {},
      "cell_type": "markdown",
      "metadata": {},
      "source": [
        "We can clearly see that the dataset is imbalanced. To address this, we can either:\n",
        "* oversample the minority examples to create synthetic examples of the minority class, or\n",
        "* undersample the majority examples to remove some of the observations that fall into that class.\n",
        "\n",
        "Both oversampling and undersampling have advantages and disadvantages:\n",
        "* Oversampling does not decrease the size of the dataset and does not lose any of the information present in the dataset. However, it can increase the chance of overfitting the model, since it increases the presence of characteristics in the dataset that were initially only applicable to a relatively small number of observations\n",
        "* Undersampling has the advantage that it does not introduce further information into the dataset and create this risk of overfitting. However, it does reduce the size of the dataset and by definition will lose some information.\n",
        "\n",
        "In this case, the size of the dataset is not excessive and so we will attempt oversampling; however, if we observe that the model is overfitting, we can try undersampling instead."
      ]
    },
    {
      "attachments": {},
      "cell_type": "markdown",
      "metadata": {},
      "source": [
        "### Use SMOTE to balance the Train Set target"
      ]
    },
    {
      "attachments": {},
      "cell_type": "markdown",
      "metadata": {},
      "source": [
        "SMOTE, or Synthetic Minority Oversampling TEchnique, works by selecting examples from the minority class that are close to one another in the feature space, and creating a new sample at a point between these samples.\n",
        "* \"Specifically, a random example from the minority class is first chosen. Then k of the nearest neighbors for that example are found (typically k=5). A randomly selected neighbor is chosen and a synthetic example is created at a randomly selected point between the two examples in feature space\" - [Machine Learning Mastery](https://machinelearningmastery.com/smote-oversampling-for-imbalanced-classification/)"
      ]
    },
    {
      "cell_type": "code",
      "execution_count": 122,
      "metadata": {},
      "outputs": [
        {
          "name": "stdout",
          "output_type": "stream",
          "text": [
            "(37354, 15) (37354,) (6000, 15) (6000,)\n"
          ]
        }
      ],
      "source": [
        "from imblearn.over_sampling import SMOTE\n",
        "oversample = SMOTE(sampling_strategy='minority', random_state=0)\n",
        "X_train, y_train = oversample.fit_resample(X_train, y_train)\n",
        "print(X_train.shape, y_train.shape, X_test.shape, y_test.shape)"
      ]
    },
    {
      "attachments": {},
      "cell_type": "markdown",
      "metadata": {},
      "source": [
        "Finally, we check the train set target distribution again after oversampling. An equal distribution is now seen:"
      ]
    },
    {
      "cell_type": "code",
      "execution_count": 123,
      "metadata": {},
      "outputs": [
        {
          "data": {
            "image/png": "[encoded data removed]",
            "text/plain": [
              "<Figure size 640x480 with 1 Axes>"
            ]
          },
          "metadata": {},
          "output_type": "display_data"
        }
      ],
      "source": [
        "import matplotlib.pyplot as plt\n",
        "y_train.value_counts().plot(kind='bar', title='Train Set Target Distribution')\n",
        "plt.show()"
      ]
    },
    {
      "attachments": {},
      "cell_type": "markdown",
      "metadata": {},
      "source": [
        "---"
      ]
    },
    {
      "attachments": {},
      "cell_type": "markdown",
      "metadata": {},
      "source": [
        "# Train the ML pipeline to predict default in the following month"
      ]
    },
    {
      "attachments": {},
      "cell_type": "markdown",
      "metadata": {},
      "source": [
        "## Find the most suitable algorithm for the data"
      ]
    },
    {
      "attachments": {},
      "cell_type": "markdown",
      "metadata": {},
      "source": [
        "First, we want to test multiple algorithms using their default hyperparameters, in order to find the algorithm(s) that best suit the data.\n",
        "* Note that in the `models_quick_search` dictionary, the Bernoulli Naive Bayes classifier does not have the `random_state` parameter set to 0 because Bayesian classifiers do not involve any randomisation or stochastic processes during training or prediction; as such, they do not need the `random_state` parameter to be set to ensure reproducibility, whereas the other classifier models do have this requirement\n",
        "* Note that using the empty dictionaries within the `params_quick_search` dictionary means that the default hyperparameter values will be used"
      ]
    },
    {
      "cell_type": "code",
      "execution_count": 124,
      "metadata": {},
      "outputs": [],
      "source": [
        "models_quick_search = {\n",
        "    \"LogisticRegression\": LogisticRegression(random_state=0),\n",
        "    \"XGBClassifier\": XGBClassifier(random_state=0),\n",
        "    \"DecisionTreeClassifier\": DecisionTreeClassifier(random_state=0),\n",
        "    \"RandomForestClassifier\": RandomForestClassifier(random_state=0),\n",
        "    \"GradientBoostingClassifier\": GradientBoostingClassifier(random_state=0),\n",
        "    \"ExtraTreesClassifier\": ExtraTreesClassifier(random_state=0),\n",
        "    \"AdaBoostClassifier\": AdaBoostClassifier(random_state=0),\n",
        "    \"BernoulliNBClassifier\": BernoulliNB(),\n",
        "    \"LinearSVCClassifier\": LinearSVC(random_state=0)\n",
        "}\n",
        "\n",
        "params_quick_search = {\n",
        "    \"LogisticRegression\": {},\n",
        "    \"XGBClassifier\": {},\n",
        "    \"DecisionTreeClassifier\": {},\n",
        "    \"RandomForestClassifier\": {},\n",
        "    \"GradientBoostingClassifier\": {},\n",
        "    \"ExtraTreesClassifier\": {},\n",
        "    \"AdaBoostClassifier\": {},\n",
        "    \"BernoulliNBClassifier\": {},\n",
        "    \"LinearSVCClassifier\": {}\n",
        "}\n"
      ]
    },
    {
      "attachments": {},
      "cell_type": "markdown",
      "metadata": {},
      "source": [
        "We now run GridSearch CV to identify the best performing algorithms for the data:"
      ]
    },
    {
      "cell_type": "code",
      "execution_count": 179,
      "metadata": {},
      "outputs": [
        {
          "name": "stdout",
          "output_type": "stream",
          "text": [
            "\n",
            "Running GridSearchCV for LogisticRegression \n",
            "\n",
            "Fitting 5 folds for each of 1 candidates, totalling 5 fits\n",
            "\n",
            "Running GridSearchCV for XGBClassifier \n",
            "\n",
            "Fitting 5 folds for each of 1 candidates, totalling 5 fits\n",
            "\n",
            "Running GridSearchCV for DecisionTreeClassifier \n",
            "\n",
            "Fitting 5 folds for each of 1 candidates, totalling 5 fits\n",
            "\n",
            "Running GridSearchCV for RandomForestClassifier \n",
            "\n",
            "Fitting 5 folds for each of 1 candidates, totalling 5 fits\n",
            "\n",
            "Running GridSearchCV for GradientBoostingClassifier \n",
            "\n",
            "Fitting 5 folds for each of 1 candidates, totalling 5 fits\n",
            "\n",
            "Running GridSearchCV for ExtraTreesClassifier \n",
            "\n",
            "Fitting 5 folds for each of 1 candidates, totalling 5 fits\n",
            "\n",
            "Running GridSearchCV for AdaBoostClassifier \n",
            "\n",
            "Fitting 5 folds for each of 1 candidates, totalling 5 fits\n",
            "\n",
            "Running GridSearchCV for BernoulliNBClassifier \n",
            "\n",
            "Fitting 5 folds for each of 1 candidates, totalling 5 fits\n"
          ]
        },
        {
          "name": "stderr",
          "output_type": "stream",
          "text": [
            "c:\\Users\\franc\\AppData\\Local\\Programs\\Python\\Python38\\lib\\site-packages\\sklearn\\utils\\deprecation.py:101: FutureWarning: Attribute coef_ was deprecated in version 0.24 and will be removed in 1.1 (renaming of 0.26).\n",
            "  warnings.warn(msg, category=FutureWarning)\n"
          ]
        },
        {
          "name": "stdout",
          "output_type": "stream",
          "text": [
            "\n",
            "Running GridSearchCV for LinearSVCClassifier \n",
            "\n",
            "Fitting 5 folds for each of 1 candidates, totalling 5 fits\n"
          ]
        },
        {
          "name": "stderr",
          "output_type": "stream",
          "text": [
            "c:\\Users\\franc\\AppData\\Local\\Programs\\Python\\Python38\\lib\\site-packages\\sklearn\\svm\\_base.py:985: ConvergenceWarning: Liblinear failed to converge, increase the number of iterations.\n",
            "  warnings.warn(\"Liblinear failed to converge, increase \"\n",
            "c:\\Users\\franc\\AppData\\Local\\Programs\\Python\\Python38\\lib\\site-packages\\sklearn\\svm\\_base.py:985: ConvergenceWarning: Liblinear failed to converge, increase the number of iterations.\n",
            "  warnings.warn(\"Liblinear failed to converge, increase \"\n"
          ]
        }
      ],
      "source": [
        "from sklearn.metrics import make_scorer, f1_score\n",
        "f1_search = HyperparameterOptimizationSearch(models=models_quick_search, params=params_quick_search)\n",
        "f1_search.fit(X_train, y_train,\n",
        "           scoring =  make_scorer(f1_score),\n",
        "           n_jobs=-1, cv=5)"
      ]
    },
    {
      "attachments": {},
      "cell_type": "markdown",
      "metadata": {},
      "source": [
        "Now we can check the results:"
      ]
    },
    {
      "cell_type": "code",
      "execution_count": 180,
      "metadata": {},
      "outputs": [
        {
          "data": {
            "text/html": [
              "<div>\n",
              "<style scoped>\n",
              "    .dataframe tbody tr th:only-of-type {\n",
              "        vertical-align: middle;\n",
              "    }\n",
              "\n",
              "    .dataframe tbody tr th {\n",
              "        vertical-align: top;\n",
              "    }\n",
              "\n",
              "    .dataframe thead th {\n",
              "        text-align: right;\n",
              "    }\n",
              "</style>\n",
              "<table border=\"1\" class=\"dataframe\">\n",
              "  <thead>\n",
              "    <tr style=\"text-align: right;\">\n",
              "      <th></th>\n",
              "      <th>estimator</th>\n",
              "      <th>min_score</th>\n",
              "      <th>mean_score</th>\n",
              "      <th>max_score</th>\n",
              "      <th>std_score</th>\n",
              "    </tr>\n",
              "  </thead>\n",
              "  <tbody>\n",
              "    <tr>\n",
              "      <th>5</th>\n",
              "      <td>ExtraTreesClassifier</td>\n",
              "      <td>0.595329</td>\n",
              "      <td>0.803749</td>\n",
              "      <td>0.8815</td>\n",
              "      <td>0.11058</td>\n",
              "    </tr>\n",
              "    <tr>\n",
              "      <th>3</th>\n",
              "      <td>RandomForestClassifier</td>\n",
              "      <td>0.533874</td>\n",
              "      <td>0.802016</td>\n",
              "      <td>0.893748</td>\n",
              "      <td>0.138274</td>\n",
              "    </tr>\n",
              "    <tr>\n",
              "      <th>1</th>\n",
              "      <td>XGBClassifier</td>\n",
              "      <td>0.505076</td>\n",
              "      <td>0.764225</td>\n",
              "      <td>0.860878</td>\n",
              "      <td>0.135526</td>\n",
              "    </tr>\n",
              "    <tr>\n",
              "      <th>4</th>\n",
              "      <td>GradientBoostingClassifier</td>\n",
              "      <td>0.572544</td>\n",
              "      <td>0.762395</td>\n",
              "      <td>0.832596</td>\n",
              "      <td>0.099387</td>\n",
              "    </tr>\n",
              "    <tr>\n",
              "      <th>6</th>\n",
              "      <td>AdaBoostClassifier</td>\n",
              "      <td>0.595829</td>\n",
              "      <td>0.74434</td>\n",
              "      <td>0.823684</td>\n",
              "      <td>0.081568</td>\n",
              "    </tr>\n",
              "    <tr>\n",
              "      <th>2</th>\n",
              "      <td>DecisionTreeClassifier</td>\n",
              "      <td>0.532465</td>\n",
              "      <td>0.736858</td>\n",
              "      <td>0.824809</td>\n",
              "      <td>0.111681</td>\n",
              "    </tr>\n",
              "    <tr>\n",
              "      <th>0</th>\n",
              "      <td>LogisticRegression</td>\n",
              "      <td>0.595441</td>\n",
              "      <td>0.694299</td>\n",
              "      <td>0.734864</td>\n",
              "      <td>0.051953</td>\n",
              "    </tr>\n",
              "    <tr>\n",
              "      <th>8</th>\n",
              "      <td>LinearSVCClassifier</td>\n",
              "      <td>0.584422</td>\n",
              "      <td>0.690675</td>\n",
              "      <td>0.730998</td>\n",
              "      <td>0.055158</td>\n",
              "    </tr>\n",
              "    <tr>\n",
              "      <th>7</th>\n",
              "      <td>BernoulliNBClassifier</td>\n",
              "      <td>0.637851</td>\n",
              "      <td>0.652505</td>\n",
              "      <td>0.659104</td>\n",
              "      <td>0.007927</td>\n",
              "    </tr>\n",
              "  </tbody>\n",
              "</table>\n",
              "</div>"
            ],
            "text/plain": [
              "                    estimator min_score mean_score max_score std_score\n",
              "5        ExtraTreesClassifier  0.595329   0.803749    0.8815   0.11058\n",
              "3      RandomForestClassifier  0.533874   0.802016  0.893748  0.138274\n",
              "1               XGBClassifier  0.505076   0.764225  0.860878  0.135526\n",
              "4  GradientBoostingClassifier  0.572544   0.762395  0.832596  0.099387\n",
              "6          AdaBoostClassifier  0.595829    0.74434  0.823684  0.081568\n",
              "2      DecisionTreeClassifier  0.532465   0.736858  0.824809  0.111681\n",
              "0          LogisticRegression  0.595441   0.694299  0.734864  0.051953\n",
              "8         LinearSVCClassifier  0.584422   0.690675  0.730998  0.055158\n",
              "7       BernoulliNBClassifier  0.637851   0.652505  0.659104  0.007927"
            ]
          },
          "execution_count": 180,
          "metadata": {},
          "output_type": "execute_result"
        }
      ],
      "source": [
        "import numpy as np\n",
        "f1_grid_search_summary, grid_search_pipelines = f1_search.score_summary(sort_by='mean_score')\n",
        "f1_grid_search_summary "
      ]
    },
    {
      "attachments": {},
      "cell_type": "markdown",
      "metadata": {},
      "source": [
        "## Hyperparameter optimisation for selected algorithms"
      ]
    },
    {
      "attachments": {},
      "cell_type": "markdown",
      "metadata": {},
      "source": [
        "We will consider `ExtraTreesClassifier` and `RandomForestClassifier`, since these have the highest mean scores, both scoring 0.80, before a significant dropoff to `XGBClassifier`\twith 0.76.\n",
        "\n",
        "`ExtraTreesClassifier` and `RandomForestClassifier` are both bagging ensemble methods.\n",
        "* The [sklearn documentation](https://scikit-learn.org/stable/modules/ensemble.html) notes that some important parameters to adjust when using these methods are `n_estimators` and `max_features`.\n",
        "* In addition to these, a number of other hyperparameters are also explored, as follows:\n",
        "* `n_estimators` is the number of trees in the forest. The larger the better, but also the longer it will take to compute. In addition, note that results will stop getting significantly better beyond a critical number of trees.\n",
        "    - The values of 50, 100 and 140 are assessed for `RandomForestClassifier` and 50, 100 and 150 for `ExtraTreesClassifier`.\n",
        "    - These values have been selected to explore different ensemble sizes.\n",
        "* `max_features` is the size of the random subsets of features to consider when splitting a node to find the best split. The lower this value the greater the reduction of variance, but also the greater the increase in bias.\n",
        "    - For both algorithms, the values of `sqrt`, `log2` and `None` are assessed, corresponding respectively to the square root of the total number of features, to the base-2 logarithm, and to considering all features.\n",
        "    - Considering different values allows for the evaluation of varying feature subsets during tree construction.\n",
        "* `max_depth` is the maximum depth allowed for each decision tree. As noted in the [sklearn docs](https://scikit-learn.org/stable/modules/generated/sklearn.ensemble.ExtraTreesClassifier.html), if this is set to None, then nodes are expanded until all leaves are pure or until all leaves contain less than `min_samples_split` samples.\n",
        "    - Here, values of None, 4, and 15 are evaluated for `RandomForestClassifier` and None, 3 and 15 for `ExtraTreesClassifier`.\n",
        "    - This allows us to investigate different levels of tree complexity.\n",
        "    -  A deeper tree can capture more intricate patterns but may also overfit.\n",
        "* `min_samples_split` is the minimum number of samples required to split an internal node.\n",
        "    - Values of 2, 25, and 50 are considered for both algorithms, representing a range of different thresholds for node splitting.\n",
        "    - Smaller values can lead to more flexible trees, but also increase the risk of overfitting.\n",
        "* `min_samples_leaf` is the minimum number of samples required to be at a leaf node. That is, a split point at any depth will only be considered if it leaves at least `min_samples_leaf` training samples in each of the left and right branches.\n",
        "    - With values of 1, 25, and 50 assessed for both algorithms, different leaf node sizes are explored.\n",
        "    - Larger values can prevent overfitting, but could also result in underfitting.\n",
        "* `max_leaf_nodes` is the maximum number of nodes allowed in each decision tree.\n",
        "    - For both algorithms, values of None, 25 and 50 are considered.\n",
        "    - Setting None allows for unlimited leaf nodes, while specifying a value can limit the complexity of the tree.\n",
        "\n",
        "First, we will define the models and parameters for the extensive search."
      ]
    },
    {
      "cell_type": "code",
      "execution_count": 183,
      "metadata": {},
      "outputs": [],
      "source": [
        "models_search = {\n",
        "    \"RandomForestClassifier\": RandomForestClassifier(random_state=0),\n",
        "    \"ExtraTreesClassifier\": ExtraTreesClassifier(random_state=0),\n",
        "}\n",
        "\n",
        "params_search = {\n",
        "    \"RandomForestClassifier\": {\n",
        "        'model__n_estimators': [50, 100, 140],\n",
        "        'model__max_depth': [None, 4, 15],\n",
        "        'model__min_samples_split': [2, 25, 50],\n",
        "        'model__min_samples_leaf': [1, 25, 50],\n",
        "        'model__max_leaf_nodes': [None, 25, 50],\n",
        "        'model__max_features': ['sqrt', 'log2', None]\n",
        "    },\n",
        "    \"ExtraTreesClassifier\": {\n",
        "        'model__n_estimators': [50, 100, 150],\n",
        "        'model__max_depth': [None, 3, 15],\n",
        "        'model__min_samples_split': [2, 25, 50],\n",
        "        'model__min_samples_leaf': [1, 25, 50],\n",
        "        'model__max_leaf_nodes': [None, 25, 50],\n",
        "        'model__max_features': ['sqrt', 'log2', None]\n",
        "    }\n",
        "}\n"
      ]
    },
    {
      "cell_type": "code",
      "execution_count": 184,
      "metadata": {},
      "outputs": [
        {
          "name": "stdout",
          "output_type": "stream",
          "text": [
            "\n",
            "Running GridSearchCV for RandomForestClassifier \n",
            "\n",
            "Fitting 5 folds for each of 729 candidates, totalling 3645 fits\n",
            "\n",
            "Running GridSearchCV for ExtraTreesClassifier \n",
            "\n",
            "Fitting 5 folds for each of 729 candidates, totalling 3645 fits\n"
          ]
        }
      ],
      "source": [
        "detail_search = HyperparameterOptimizationSearch(models=models_search, params=params_search)\n",
        "detail_search.fit(X_train, y_train,\n",
        "           scoring =  make_scorer(f1_score),\n",
        "           n_jobs=-1, cv=5)"
      ]
    },
    {
      "attachments": {},
      "cell_type": "markdown",
      "metadata": {},
      "source": [
        "Now we can check the results to see which combination of algorithm and hyperparameters produced the highest mean score:"
      ]
    },
    {
      "cell_type": "code",
      "execution_count": 230,
      "metadata": {},
      "outputs": [
        {
          "data": {
            "text/html": [
              "<div>\n",
              "<style scoped>\n",
              "    .dataframe tbody tr th:only-of-type {\n",
              "        vertical-align: middle;\n",
              "    }\n",
              "\n",
              "    .dataframe tbody tr th {\n",
              "        vertical-align: top;\n",
              "    }\n",
              "\n",
              "    .dataframe thead th {\n",
              "        text-align: right;\n",
              "    }\n",
              "</style>\n",
              "<table border=\"1\" class=\"dataframe\">\n",
              "  <thead>\n",
              "    <tr style=\"text-align: right;\">\n",
              "      <th></th>\n",
              "      <th>estimator</th>\n",
              "      <th>min_score</th>\n",
              "      <th>mean_score</th>\n",
              "      <th>max_score</th>\n",
              "      <th>std_score</th>\n",
              "      <th>model__max_depth</th>\n",
              "      <th>model__max_features</th>\n",
              "      <th>model__max_leaf_nodes</th>\n",
              "      <th>model__min_samples_leaf</th>\n",
              "      <th>model__min_samples_split</th>\n",
              "      <th>model__n_estimators</th>\n",
              "    </tr>\n",
              "  </thead>\n",
              "  <tbody>\n",
              "    <tr>\n",
              "      <th>812</th>\n",
              "      <td>ExtraTreesClassifier</td>\n",
              "      <td>0.595622</td>\n",
              "      <td>0.804249</td>\n",
              "      <td>0.882105</td>\n",
              "      <td>0.110766</td>\n",
              "      <td>None</td>\n",
              "      <td>log2</td>\n",
              "      <td>None</td>\n",
              "      <td>1</td>\n",
              "      <td>2</td>\n",
              "      <td>150</td>\n",
              "    </tr>\n",
              "    <tr>\n",
              "      <th>731</th>\n",
              "      <td>ExtraTreesClassifier</td>\n",
              "      <td>0.595622</td>\n",
              "      <td>0.804249</td>\n",
              "      <td>0.882105</td>\n",
              "      <td>0.110766</td>\n",
              "      <td>None</td>\n",
              "      <td>sqrt</td>\n",
              "      <td>None</td>\n",
              "      <td>1</td>\n",
              "      <td>2</td>\n",
              "      <td>150</td>\n",
              "    </tr>\n",
              "    <tr>\n",
              "      <th>811</th>\n",
              "      <td>ExtraTreesClassifier</td>\n",
              "      <td>0.595329</td>\n",
              "      <td>0.803749</td>\n",
              "      <td>0.8815</td>\n",
              "      <td>0.11058</td>\n",
              "      <td>None</td>\n",
              "      <td>log2</td>\n",
              "      <td>None</td>\n",
              "      <td>1</td>\n",
              "      <td>2</td>\n",
              "      <td>100</td>\n",
              "    </tr>\n",
              "    <tr>\n",
              "      <th>730</th>\n",
              "      <td>ExtraTreesClassifier</td>\n",
              "      <td>0.595329</td>\n",
              "      <td>0.803749</td>\n",
              "      <td>0.8815</td>\n",
              "      <td>0.11058</td>\n",
              "      <td>None</td>\n",
              "      <td>sqrt</td>\n",
              "      <td>None</td>\n",
              "      <td>1</td>\n",
              "      <td>2</td>\n",
              "      <td>100</td>\n",
              "    </tr>\n",
              "    <tr>\n",
              "      <th>2</th>\n",
              "      <td>RandomForestClassifier</td>\n",
              "      <td>0.53424</td>\n",
              "      <td>0.80305</td>\n",
              "      <td>0.894391</td>\n",
              "      <td>0.138641</td>\n",
              "      <td>None</td>\n",
              "      <td>sqrt</td>\n",
              "      <td>None</td>\n",
              "      <td>1</td>\n",
              "      <td>2</td>\n",
              "      <td>140</td>\n",
              "    </tr>\n",
              "    <tr>\n",
              "      <th>...</th>\n",
              "      <td>...</td>\n",
              "      <td>...</td>\n",
              "      <td>...</td>\n",
              "      <td>...</td>\n",
              "      <td>...</td>\n",
              "      <td>...</td>\n",
              "      <td>...</td>\n",
              "      <td>...</td>\n",
              "      <td>...</td>\n",
              "      <td>...</td>\n",
              "      <td>...</td>\n",
              "    </tr>\n",
              "    <tr>\n",
              "      <th>972</th>\n",
              "      <td>ExtraTreesClassifier</td>\n",
              "      <td>0.645052</td>\n",
              "      <td>0.686062</td>\n",
              "      <td>0.709668</td>\n",
              "      <td>0.021876</td>\n",
              "      <td>3</td>\n",
              "      <td>sqrt</td>\n",
              "      <td>None</td>\n",
              "      <td>1</td>\n",
              "      <td>2</td>\n",
              "      <td>50</td>\n",
              "    </tr>\n",
              "    <tr>\n",
              "      <th>1058</th>\n",
              "      <td>ExtraTreesClassifier</td>\n",
              "      <td>0.635055</td>\n",
              "      <td>0.685283</td>\n",
              "      <td>0.713904</td>\n",
              "      <td>0.026793</td>\n",
              "      <td>3</td>\n",
              "      <td>log2</td>\n",
              "      <td>None</td>\n",
              "      <td>1</td>\n",
              "      <td>25</td>\n",
              "      <td>150</td>\n",
              "    </tr>\n",
              "    <tr>\n",
              "      <th>977</th>\n",
              "      <td>ExtraTreesClassifier</td>\n",
              "      <td>0.635055</td>\n",
              "      <td>0.685283</td>\n",
              "      <td>0.713904</td>\n",
              "      <td>0.026793</td>\n",
              "      <td>3</td>\n",
              "      <td>sqrt</td>\n",
              "      <td>None</td>\n",
              "      <td>1</td>\n",
              "      <td>25</td>\n",
              "      <td>150</td>\n",
              "    </tr>\n",
              "    <tr>\n",
              "      <th>1061</th>\n",
              "      <td>ExtraTreesClassifier</td>\n",
              "      <td>0.633772</td>\n",
              "      <td>0.683574</td>\n",
              "      <td>0.711481</td>\n",
              "      <td>0.026455</td>\n",
              "      <td>3</td>\n",
              "      <td>log2</td>\n",
              "      <td>None</td>\n",
              "      <td>1</td>\n",
              "      <td>50</td>\n",
              "      <td>150</td>\n",
              "    </tr>\n",
              "    <tr>\n",
              "      <th>980</th>\n",
              "      <td>ExtraTreesClassifier</td>\n",
              "      <td>0.633772</td>\n",
              "      <td>0.683574</td>\n",
              "      <td>0.711481</td>\n",
              "      <td>0.026455</td>\n",
              "      <td>3</td>\n",
              "      <td>sqrt</td>\n",
              "      <td>None</td>\n",
              "      <td>1</td>\n",
              "      <td>50</td>\n",
              "      <td>150</td>\n",
              "    </tr>\n",
              "  </tbody>\n",
              "</table>\n",
              "<p>1458 rows × 11 columns</p>\n",
              "</div>"
            ],
            "text/plain": [
              "                   estimator min_score mean_score max_score std_score  \\\n",
              "812     ExtraTreesClassifier  0.595622   0.804249  0.882105  0.110766   \n",
              "731     ExtraTreesClassifier  0.595622   0.804249  0.882105  0.110766   \n",
              "811     ExtraTreesClassifier  0.595329   0.803749    0.8815   0.11058   \n",
              "730     ExtraTreesClassifier  0.595329   0.803749    0.8815   0.11058   \n",
              "2     RandomForestClassifier   0.53424    0.80305  0.894391  0.138641   \n",
              "...                      ...       ...        ...       ...       ...   \n",
              "972     ExtraTreesClassifier  0.645052   0.686062  0.709668  0.021876   \n",
              "1058    ExtraTreesClassifier  0.635055   0.685283  0.713904  0.026793   \n",
              "977     ExtraTreesClassifier  0.635055   0.685283  0.713904  0.026793   \n",
              "1061    ExtraTreesClassifier  0.633772   0.683574  0.711481  0.026455   \n",
              "980     ExtraTreesClassifier  0.633772   0.683574  0.711481  0.026455   \n",
              "\n",
              "     model__max_depth model__max_features model__max_leaf_nodes  \\\n",
              "812              None                log2                  None   \n",
              "731              None                sqrt                  None   \n",
              "811              None                log2                  None   \n",
              "730              None                sqrt                  None   \n",
              "2                None                sqrt                  None   \n",
              "...               ...                 ...                   ...   \n",
              "972                 3                sqrt                  None   \n",
              "1058                3                log2                  None   \n",
              "977                 3                sqrt                  None   \n",
              "1061                3                log2                  None   \n",
              "980                 3                sqrt                  None   \n",
              "\n",
              "     model__min_samples_leaf model__min_samples_split model__n_estimators  \n",
              "812                        1                        2                 150  \n",
              "731                        1                        2                 150  \n",
              "811                        1                        2                 100  \n",
              "730                        1                        2                 100  \n",
              "2                          1                        2                 140  \n",
              "...                      ...                      ...                 ...  \n",
              "972                        1                        2                  50  \n",
              "1058                       1                       25                 150  \n",
              "977                        1                       25                 150  \n",
              "1061                       1                       50                 150  \n",
              "980                        1                       50                 150  \n",
              "\n",
              "[1458 rows x 11 columns]"
            ]
          },
          "execution_count": 230,
          "metadata": {},
          "output_type": "execute_result"
        }
      ],
      "source": [
        "grid_search_summary, grid_search_pipelines = detail_search.score_summary(sort_by='mean_score')\n",
        "grid_search_summary"
      ]
    },
    {
      "attachments": {},
      "cell_type": "markdown",
      "metadata": {},
      "source": [
        "The name of the best model can be extracted from the grid search summary as follows:"
      ]
    },
    {
      "cell_type": "code",
      "execution_count": 231,
      "metadata": {},
      "outputs": [
        {
          "data": {
            "text/plain": [
              "'ExtraTreesClassifier'"
            ]
          },
          "execution_count": 231,
          "metadata": {},
          "output_type": "execute_result"
        }
      ],
      "source": [
        "best_model = grid_search_summary.iloc[0,0]\n",
        "best_model"
      ]
    },
    {
      "attachments": {},
      "cell_type": "markdown",
      "metadata": {},
      "source": [
        "The best hyperparameters can also be shown:"
      ]
    },
    {
      "cell_type": "code",
      "execution_count": 232,
      "metadata": {},
      "outputs": [
        {
          "data": {
            "text/plain": [
              "{'model__max_depth': None,\n",
              " 'model__max_features': 'sqrt',\n",
              " 'model__max_leaf_nodes': None,\n",
              " 'model__min_samples_leaf': 1,\n",
              " 'model__min_samples_split': 2,\n",
              " 'model__n_estimators': 150}"
            ]
          },
          "execution_count": 232,
          "metadata": {},
          "output_type": "execute_result"
        }
      ],
      "source": [
        "best_parameters = grid_search_pipelines[best_model].best_params_\n",
        "best_parameters"
      ]
    },
    {
      "attachments": {},
      "cell_type": "markdown",
      "metadata": {},
      "source": [
        "As well as the pipeline that contains the best algorithm:"
      ]
    },
    {
      "cell_type": "code",
      "execution_count": 233,
      "metadata": {},
      "outputs": [
        {
          "data": {
            "text/plain": [
              "Pipeline(steps=[('scaler', StandardScaler()),\n",
              "                ('feat_selection',\n",
              "                 SelectFromModel(estimator=ExtraTreesClassifier(random_state=0))),\n",
              "                ('model',\n",
              "                 ExtraTreesClassifier(max_features='sqrt', n_estimators=150,\n",
              "                                      random_state=0))])"
            ]
          },
          "execution_count": 233,
          "metadata": {},
          "output_type": "execute_result"
        }
      ],
      "source": [
        "pipeline_clf = grid_search_pipelines[best_model].best_estimator_\n",
        "pipeline_clf"
      ]
    },
    {
      "cell_type": "code",
      "execution_count": 189,
      "metadata": {},
      "outputs": [
        {
          "data": {
            "text/html": [
              "<div>\n",
              "<style scoped>\n",
              "    .dataframe tbody tr th:only-of-type {\n",
              "        vertical-align: middle;\n",
              "    }\n",
              "\n",
              "    .dataframe tbody tr th {\n",
              "        vertical-align: top;\n",
              "    }\n",
              "\n",
              "    .dataframe thead th {\n",
              "        text-align: right;\n",
              "    }\n",
              "</style>\n",
              "<table border=\"1\" class=\"dataframe\">\n",
              "  <thead>\n",
              "    <tr style=\"text-align: right;\">\n",
              "      <th></th>\n",
              "      <th>credit_limit</th>\n",
              "      <th>education</th>\n",
              "      <th>age</th>\n",
              "      <th>late_jul</th>\n",
              "      <th>bill_sep</th>\n",
              "      <th>prev_payment_sep</th>\n",
              "      <th>prev_payment_aug</th>\n",
              "      <th>prev_payment_jul</th>\n",
              "      <th>prev_payment_jun</th>\n",
              "      <th>prev_payment_may</th>\n",
              "      <th>prev_payment_apr</th>\n",
              "      <th>total_default</th>\n",
              "      <th>sex_female</th>\n",
              "      <th>marital_status_single</th>\n",
              "      <th>marital_status_other</th>\n",
              "    </tr>\n",
              "  </thead>\n",
              "  <tbody>\n",
              "    <tr>\n",
              "      <th>0</th>\n",
              "      <td>80000.0</td>\n",
              "      <td>2.0</td>\n",
              "      <td>24</td>\n",
              "      <td>0</td>\n",
              "      <td>75125.0</td>\n",
              "      <td>3503.0</td>\n",
              "      <td>5001.0</td>\n",
              "      <td>2092.0</td>\n",
              "      <td>1218.0</td>\n",
              "      <td>1445.0</td>\n",
              "      <td>878.0</td>\n",
              "      <td>0</td>\n",
              "      <td>1</td>\n",
              "      <td>1</td>\n",
              "      <td>0</td>\n",
              "    </tr>\n",
              "    <tr>\n",
              "      <th>1</th>\n",
              "      <td>30000.0</td>\n",
              "      <td>2.0</td>\n",
              "      <td>28</td>\n",
              "      <td>0</td>\n",
              "      <td>29242.0</td>\n",
              "      <td>5006.0</td>\n",
              "      <td>1244.0</td>\n",
              "      <td>851.0</td>\n",
              "      <td>955.0</td>\n",
              "      <td>0.0</td>\n",
              "      <td>0.0</td>\n",
              "      <td>0</td>\n",
              "      <td>0</td>\n",
              "      <td>1</td>\n",
              "      <td>0</td>\n",
              "    </tr>\n",
              "    <tr>\n",
              "      <th>2</th>\n",
              "      <td>180000.0</td>\n",
              "      <td>0.0</td>\n",
              "      <td>44</td>\n",
              "      <td>-1</td>\n",
              "      <td>20916.0</td>\n",
              "      <td>0.0</td>\n",
              "      <td>850.0</td>\n",
              "      <td>0.0</td>\n",
              "      <td>6881.0</td>\n",
              "      <td>10340.0</td>\n",
              "      <td>182.0</td>\n",
              "      <td>0</td>\n",
              "      <td>1</td>\n",
              "      <td>0</td>\n",
              "      <td>0</td>\n",
              "    </tr>\n",
              "    <tr>\n",
              "      <th>3</th>\n",
              "      <td>60000.0</td>\n",
              "      <td>3.0</td>\n",
              "      <td>25</td>\n",
              "      <td>0</td>\n",
              "      <td>58839.0</td>\n",
              "      <td>2018.0</td>\n",
              "      <td>1900.0</td>\n",
              "      <td>2000.0</td>\n",
              "      <td>1500.0</td>\n",
              "      <td>1900.0</td>\n",
              "      <td>2000.0</td>\n",
              "      <td>0</td>\n",
              "      <td>0</td>\n",
              "      <td>1</td>\n",
              "      <td>0</td>\n",
              "    </tr>\n",
              "    <tr>\n",
              "      <th>4</th>\n",
              "      <td>130000.0</td>\n",
              "      <td>2.0</td>\n",
              "      <td>25</td>\n",
              "      <td>0</td>\n",
              "      <td>111587.0</td>\n",
              "      <td>4100.0</td>\n",
              "      <td>4200.0</td>\n",
              "      <td>5000.0</td>\n",
              "      <td>5000.0</td>\n",
              "      <td>5000.0</td>\n",
              "      <td>10700.0</td>\n",
              "      <td>0</td>\n",
              "      <td>1</td>\n",
              "      <td>1</td>\n",
              "      <td>0</td>\n",
              "    </tr>\n",
              "  </tbody>\n",
              "</table>\n",
              "</div>"
            ],
            "text/plain": [
              "   credit_limit  education  age  late_jul  bill_sep  prev_payment_sep  \\\n",
              "0       80000.0        2.0   24         0   75125.0            3503.0   \n",
              "1       30000.0        2.0   28         0   29242.0            5006.0   \n",
              "2      180000.0        0.0   44        -1   20916.0               0.0   \n",
              "3       60000.0        3.0   25         0   58839.0            2018.0   \n",
              "4      130000.0        2.0   25         0  111587.0            4100.0   \n",
              "\n",
              "   prev_payment_aug  prev_payment_jul  prev_payment_jun  prev_payment_may  \\\n",
              "0            5001.0            2092.0            1218.0            1445.0   \n",
              "1            1244.0             851.0             955.0               0.0   \n",
              "2             850.0               0.0            6881.0           10340.0   \n",
              "3            1900.0            2000.0            1500.0            1900.0   \n",
              "4            4200.0            5000.0            5000.0            5000.0   \n",
              "\n",
              "   prev_payment_apr  total_default  sex_female  marital_status_single  \\\n",
              "0             878.0              0           1                      1   \n",
              "1               0.0              0           0                      1   \n",
              "2             182.0              0           1                      0   \n",
              "3            2000.0              0           0                      1   \n",
              "4           10700.0              0           1                      1   \n",
              "\n",
              "   marital_status_other  \n",
              "0                     0  \n",
              "1                     0  \n",
              "2                     0  \n",
              "3                     0  \n",
              "4                     0  "
            ]
          },
          "execution_count": 189,
          "metadata": {},
          "output_type": "execute_result"
        }
      ],
      "source": [
        "X_train.head()"
      ]
    },
    {
      "attachments": {},
      "cell_type": "markdown",
      "metadata": {},
      "source": [
        "We now want to identify the most important features in this pipeline.\n",
        "* First, 'Feature' identifies the columns (features) from the `X_train` dataframe that were selected by the feature selection step in the pipeline and returns them as a Boolean list.\n",
        "* Because the best model is tree-based, the most important features in the pipeline can then be accessed using the `feature_importances_` method.\n",
        "    - These features are then ranked in order of importance and displayed in a bar chart."
      ]
    },
    {
      "cell_type": "code",
      "execution_count": 234,
      "metadata": {},
      "outputs": [
        {
          "name": "stdout",
          "output_type": "stream",
          "text": [
            "* These are the 5 most important features in descending order. The model was trained on them: \n",
            "['bill_sep', 'education', 'total_default', 'credit_limit', 'age']\n"
          ]
        },
        {
          "data": {
            "image/png": "[encoded data removed]",
            "text/plain": [
              "<Figure size 640x480 with 1 Axes>"
            ]
          },
          "metadata": {},
          "output_type": "display_data"
        }
      ],
      "source": [
        "# create DataFrame to display feature importance\n",
        "df_feature_importance = (pd.DataFrame(data={\n",
        "    'Feature': X_train.columns[pipeline_clf['feat_selection'].get_support()],\n",
        "    'Importance': pipeline_clf['model'].feature_importances_})\n",
        "    .sort_values(by='Importance', ascending=False)\n",
        ")\n",
        "\n",
        "# re-assign best_features order\n",
        "best_features = df_feature_importance['Feature'].to_list()\n",
        "\n",
        "# Most important features statement and plot\n",
        "print(f\"* These are the {len(best_features)} most important features in descending order. \"\n",
        "      f\"The model was trained on them: \\n{df_feature_importance['Feature'].to_list()}\")\n",
        "\n",
        "df_feature_importance.plot(kind='bar', x='Feature', y='Importance')\n",
        "plt.show()\n"
      ]
    },
    {
      "attachments": {},
      "cell_type": "markdown",
      "metadata": {},
      "source": [
        "This is a slightly unexpected set of features, since we did not observe high levels of correlation between the size of the bill or education levels and the target variable.\n",
        "\n",
        "We can now create a confusion matrix to evaluate the model's performance:"
      ]
    },
    {
      "cell_type": "code",
      "execution_count": 192,
      "metadata": {},
      "outputs": [],
      "source": [
        "from sklearn.metrics import classification_report, confusion_matrix\n",
        "\n",
        "\n",
        "def confusion_matrix_and_report(X, y, pipeline, label_map):\n",
        "\n",
        "    prediction = pipeline.predict(X)\n",
        "\n",
        "    print('---  Confusion Matrix  ---')\n",
        "    print(pd.DataFrame(confusion_matrix(y_true=prediction, y_pred=y),\n",
        "          columns=[[\"Actual \" + sub for sub in label_map]],\n",
        "          index=[[\"Prediction \" + sub for sub in label_map]]\n",
        "          ))\n",
        "    print(\"\\n\")\n",
        "\n",
        "    print('---  Classification Report  ---')\n",
        "    print(classification_report(y, prediction, target_names=label_map), \"\\n\")\n",
        "\n",
        "\n",
        "def clf_performance(X_train, y_train, X_test, y_test, pipeline, label_map):\n",
        "    print(\"#### Train Set #### \\n\")\n",
        "    confusion_matrix_and_report(X_train, y_train, pipeline, label_map)\n",
        "\n",
        "    print(\"#### Test Set ####\\n\")\n",
        "    confusion_matrix_and_report(X_test, y_test, pipeline, label_map)\n"
      ]
    },
    {
      "cell_type": "code",
      "execution_count": 193,
      "metadata": {},
      "outputs": [
        {
          "name": "stdout",
          "output_type": "stream",
          "text": [
            "#### Train Set #### \n",
            "\n",
            "---  Confusion Matrix  ---\n",
            "                      Actual No Default Actual Default\n",
            "Prediction No Default             18636            105\n",
            "Prediction Default                   41          18572\n",
            "\n",
            "\n",
            "---  Classification Report  ---\n",
            "              precision    recall  f1-score   support\n",
            "\n",
            "  No Default       0.99      1.00      1.00     18677\n",
            "     Default       1.00      0.99      1.00     18677\n",
            "\n",
            "    accuracy                           1.00     37354\n",
            "   macro avg       1.00      1.00      1.00     37354\n",
            "weighted avg       1.00      1.00      1.00     37354\n",
            " \n",
            "\n",
            "#### Test Set ####\n",
            "\n",
            "---  Confusion Matrix  ---\n",
            "                      Actual No Default Actual Default\n",
            "Prediction No Default              3763            699\n",
            "Prediction Default                  924            614\n",
            "\n",
            "\n",
            "---  Classification Report  ---\n",
            "              precision    recall  f1-score   support\n",
            "\n",
            "  No Default       0.84      0.80      0.82      4687\n",
            "     Default       0.40      0.47      0.43      1313\n",
            "\n",
            "    accuracy                           0.73      6000\n",
            "   macro avg       0.62      0.64      0.63      6000\n",
            "weighted avg       0.75      0.73      0.74      6000\n",
            " \n",
            "\n"
          ]
        }
      ],
      "source": [
        "clf_performance(X_train=X_train, y_train=y_train,\n",
        "                X_test=X_test, y_test=y_test,\n",
        "                pipeline=pipeline_clf,\n",
        "                label_map= ['No Default', 'Default'] \n",
        "                )"
      ]
    },
    {
      "attachments": {},
      "cell_type": "markdown",
      "metadata": {},
      "source": [
        "The model's performance on the training data is excellent, with extremely high performance on the test data. The confusion matrix shows very high rates of prediction for both default and no default, and the precision, recall and F1 scores are all close to 1.\n",
        "* This may already lead us to suspect that the model is overfitting to the training data.\n",
        "\n",
        "Performance on the test set is very disappointing, with low precision, recall and F1 scores for predicting default. The scores for predicting no default are acceptable, but this is not the metric we are most interested in.\n",
        "* The model appears to be overfitting to the training data\n",
        "\n",
        "To address this, we may try adjusting the hyperparameters in a number of ways that will help to reduce the tree's complexity, and hopefully prevent overfitting:\n",
        "* Reducing the maximum depth (currently set to None)\n",
        "* Limiting the number of features considered at each split\n",
        "* Increasing the minimum number of samples required to split a node.\n",
        "\n",
        "Again, we will define the models and parameters for the extensive search, with the parameters adjusted as described above:\n"
      ]
    },
    {
      "cell_type": "code",
      "execution_count": 194,
      "metadata": {},
      "outputs": [],
      "source": [
        "models_search_2 = {\n",
        "    \"RandomForestClassifier\": RandomForestClassifier(random_state=0),\n",
        "    \"ExtraTreesClassifier\": ExtraTreesClassifier(random_state=0),\n",
        "}\n",
        "\n",
        "params_search_2 = {\n",
        "    \"RandomForestClassifier\": {\n",
        "        'model__n_estimators': [140, 200],\n",
        "        'model__max_depth': [4, 15],\n",
        "        'model__min_samples_split': [25, 50],\n",
        "        'model__min_samples_leaf': [25, 50],\n",
        "        'model__max_leaf_nodes': [25, 50],\n",
        "        'model__max_features': ['sqrt', 'log2', None]\n",
        "    },\n",
        "    \"ExtraTreesClassifier\": {\n",
        "        'model__n_estimators': [150, 200],\n",
        "        'model__max_depth': [3, 15],\n",
        "        'model__min_samples_split': [25, 50],\n",
        "        'model__min_samples_leaf': [25, 50],\n",
        "        'model__max_leaf_nodes': [25, 50],\n",
        "        'model__max_features': ['sqrt', 'log2', None]\n",
        "    }\n",
        "}\n"
      ]
    },
    {
      "attachments": {},
      "cell_type": "markdown",
      "metadata": {},
      "source": [
        "Next, conduct the search:"
      ]
    },
    {
      "cell_type": "code",
      "execution_count": 195,
      "metadata": {},
      "outputs": [
        {
          "name": "stdout",
          "output_type": "stream",
          "text": [
            "\n",
            "Running GridSearchCV for RandomForestClassifier \n",
            "\n",
            "Fitting 5 folds for each of 96 candidates, totalling 480 fits\n",
            "\n",
            "Running GridSearchCV for ExtraTreesClassifier \n",
            "\n",
            "Fitting 5 folds for each of 96 candidates, totalling 480 fits\n"
          ]
        }
      ],
      "source": [
        "detail_search_2 = HyperparameterOptimizationSearch(models=models_search_2, params=params_search_2)\n",
        "detail_search_2.fit(X_train, y_train,\n",
        "           scoring =  make_scorer(f1_score),\n",
        "           n_jobs=-1, cv=5)"
      ]
    },
    {
      "attachments": {},
      "cell_type": "markdown",
      "metadata": {},
      "source": [
        "Check the results:"
      ]
    },
    {
      "cell_type": "code",
      "execution_count": 235,
      "metadata": {},
      "outputs": [
        {
          "data": {
            "text/html": [
              "<div>\n",
              "<style scoped>\n",
              "    .dataframe tbody tr th:only-of-type {\n",
              "        vertical-align: middle;\n",
              "    }\n",
              "\n",
              "    .dataframe tbody tr th {\n",
              "        vertical-align: top;\n",
              "    }\n",
              "\n",
              "    .dataframe thead th {\n",
              "        text-align: right;\n",
              "    }\n",
              "</style>\n",
              "<table border=\"1\" class=\"dataframe\">\n",
              "  <thead>\n",
              "    <tr style=\"text-align: right;\">\n",
              "      <th></th>\n",
              "      <th>estimator</th>\n",
              "      <th>min_score</th>\n",
              "      <th>mean_score</th>\n",
              "      <th>max_score</th>\n",
              "      <th>std_score</th>\n",
              "      <th>model__max_depth</th>\n",
              "      <th>model__max_features</th>\n",
              "      <th>model__max_leaf_nodes</th>\n",
              "      <th>model__min_samples_leaf</th>\n",
              "      <th>model__min_samples_split</th>\n",
              "      <th>model__n_estimators</th>\n",
              "    </tr>\n",
              "  </thead>\n",
              "  <tbody>\n",
              "    <tr>\n",
              "      <th>90</th>\n",
              "      <td>RandomForestClassifier</td>\n",
              "      <td>0.579259</td>\n",
              "      <td>0.774903</td>\n",
              "      <td>0.851052</td>\n",
              "      <td>0.10272</td>\n",
              "      <td>15</td>\n",
              "      <td>None</td>\n",
              "      <td>50</td>\n",
              "      <td>25</td>\n",
              "      <td>50</td>\n",
              "      <td>140</td>\n",
              "    </tr>\n",
              "    <tr>\n",
              "      <th>88</th>\n",
              "      <td>RandomForestClassifier</td>\n",
              "      <td>0.579259</td>\n",
              "      <td>0.774903</td>\n",
              "      <td>0.851052</td>\n",
              "      <td>0.10272</td>\n",
              "      <td>15</td>\n",
              "      <td>None</td>\n",
              "      <td>50</td>\n",
              "      <td>25</td>\n",
              "      <td>25</td>\n",
              "      <td>140</td>\n",
              "    </tr>\n",
              "    <tr>\n",
              "      <th>91</th>\n",
              "      <td>RandomForestClassifier</td>\n",
              "      <td>0.578778</td>\n",
              "      <td>0.77473</td>\n",
              "      <td>0.850602</td>\n",
              "      <td>0.102865</td>\n",
              "      <td>15</td>\n",
              "      <td>None</td>\n",
              "      <td>50</td>\n",
              "      <td>25</td>\n",
              "      <td>50</td>\n",
              "      <td>200</td>\n",
              "    </tr>\n",
              "    <tr>\n",
              "      <th>89</th>\n",
              "      <td>RandomForestClassifier</td>\n",
              "      <td>0.578778</td>\n",
              "      <td>0.77473</td>\n",
              "      <td>0.850602</td>\n",
              "      <td>0.102865</td>\n",
              "      <td>15</td>\n",
              "      <td>None</td>\n",
              "      <td>50</td>\n",
              "      <td>25</td>\n",
              "      <td>25</td>\n",
              "      <td>200</td>\n",
              "    </tr>\n",
              "    <tr>\n",
              "      <th>95</th>\n",
              "      <td>RandomForestClassifier</td>\n",
              "      <td>0.574366</td>\n",
              "      <td>0.772442</td>\n",
              "      <td>0.848281</td>\n",
              "      <td>0.103665</td>\n",
              "      <td>15</td>\n",
              "      <td>None</td>\n",
              "      <td>50</td>\n",
              "      <td>50</td>\n",
              "      <td>50</td>\n",
              "      <td>200</td>\n",
              "    </tr>\n",
              "    <tr>\n",
              "      <th>...</th>\n",
              "      <td>...</td>\n",
              "      <td>...</td>\n",
              "      <td>...</td>\n",
              "      <td>...</td>\n",
              "      <td>...</td>\n",
              "      <td>...</td>\n",
              "      <td>...</td>\n",
              "      <td>...</td>\n",
              "      <td>...</td>\n",
              "      <td>...</td>\n",
              "      <td>...</td>\n",
              "    </tr>\n",
              "    <tr>\n",
              "      <th>139</th>\n",
              "      <td>ExtraTreesClassifier</td>\n",
              "      <td>0.668813</td>\n",
              "      <td>0.693628</td>\n",
              "      <td>0.711379</td>\n",
              "      <td>0.014352</td>\n",
              "      <td>3</td>\n",
              "      <td>None</td>\n",
              "      <td>50</td>\n",
              "      <td>25</td>\n",
              "      <td>50</td>\n",
              "      <td>200</td>\n",
              "    </tr>\n",
              "    <tr>\n",
              "      <th>141</th>\n",
              "      <td>ExtraTreesClassifier</td>\n",
              "      <td>0.668812</td>\n",
              "      <td>0.693304</td>\n",
              "      <td>0.710881</td>\n",
              "      <td>0.014134</td>\n",
              "      <td>3</td>\n",
              "      <td>None</td>\n",
              "      <td>50</td>\n",
              "      <td>50</td>\n",
              "      <td>25</td>\n",
              "      <td>200</td>\n",
              "    </tr>\n",
              "    <tr>\n",
              "      <th>133</th>\n",
              "      <td>ExtraTreesClassifier</td>\n",
              "      <td>0.668812</td>\n",
              "      <td>0.693304</td>\n",
              "      <td>0.710881</td>\n",
              "      <td>0.014134</td>\n",
              "      <td>3</td>\n",
              "      <td>None</td>\n",
              "      <td>25</td>\n",
              "      <td>50</td>\n",
              "      <td>25</td>\n",
              "      <td>200</td>\n",
              "    </tr>\n",
              "    <tr>\n",
              "      <th>135</th>\n",
              "      <td>ExtraTreesClassifier</td>\n",
              "      <td>0.668812</td>\n",
              "      <td>0.693304</td>\n",
              "      <td>0.710881</td>\n",
              "      <td>0.014134</td>\n",
              "      <td>3</td>\n",
              "      <td>None</td>\n",
              "      <td>25</td>\n",
              "      <td>50</td>\n",
              "      <td>50</td>\n",
              "      <td>200</td>\n",
              "    </tr>\n",
              "    <tr>\n",
              "      <th>143</th>\n",
              "      <td>ExtraTreesClassifier</td>\n",
              "      <td>0.668812</td>\n",
              "      <td>0.693304</td>\n",
              "      <td>0.710881</td>\n",
              "      <td>0.014134</td>\n",
              "      <td>3</td>\n",
              "      <td>None</td>\n",
              "      <td>50</td>\n",
              "      <td>50</td>\n",
              "      <td>50</td>\n",
              "      <td>200</td>\n",
              "    </tr>\n",
              "  </tbody>\n",
              "</table>\n",
              "<p>192 rows × 11 columns</p>\n",
              "</div>"
            ],
            "text/plain": [
              "                  estimator min_score mean_score max_score std_score  \\\n",
              "90   RandomForestClassifier  0.579259   0.774903  0.851052   0.10272   \n",
              "88   RandomForestClassifier  0.579259   0.774903  0.851052   0.10272   \n",
              "91   RandomForestClassifier  0.578778    0.77473  0.850602  0.102865   \n",
              "89   RandomForestClassifier  0.578778    0.77473  0.850602  0.102865   \n",
              "95   RandomForestClassifier  0.574366   0.772442  0.848281  0.103665   \n",
              "..                      ...       ...        ...       ...       ...   \n",
              "139    ExtraTreesClassifier  0.668813   0.693628  0.711379  0.014352   \n",
              "141    ExtraTreesClassifier  0.668812   0.693304  0.710881  0.014134   \n",
              "133    ExtraTreesClassifier  0.668812   0.693304  0.710881  0.014134   \n",
              "135    ExtraTreesClassifier  0.668812   0.693304  0.710881  0.014134   \n",
              "143    ExtraTreesClassifier  0.668812   0.693304  0.710881  0.014134   \n",
              "\n",
              "    model__max_depth model__max_features model__max_leaf_nodes  \\\n",
              "90                15                None                    50   \n",
              "88                15                None                    50   \n",
              "91                15                None                    50   \n",
              "89                15                None                    50   \n",
              "95                15                None                    50   \n",
              "..               ...                 ...                   ...   \n",
              "139                3                None                    50   \n",
              "141                3                None                    50   \n",
              "133                3                None                    25   \n",
              "135                3                None                    25   \n",
              "143                3                None                    50   \n",
              "\n",
              "    model__min_samples_leaf model__min_samples_split model__n_estimators  \n",
              "90                       25                       50                 140  \n",
              "88                       25                       25                 140  \n",
              "91                       25                       50                 200  \n",
              "89                       25                       25                 200  \n",
              "95                       50                       50                 200  \n",
              "..                      ...                      ...                 ...  \n",
              "139                      25                       50                 200  \n",
              "141                      50                       25                 200  \n",
              "133                      50                       25                 200  \n",
              "135                      50                       50                 200  \n",
              "143                      50                       50                 200  \n",
              "\n",
              "[192 rows x 11 columns]"
            ]
          },
          "execution_count": 235,
          "metadata": {},
          "output_type": "execute_result"
        }
      ],
      "source": [
        "grid_search_summary_2, grid_search_pipelines_2 = detail_search_2.score_summary(sort_by='mean_score')\n",
        "grid_search_summary_2"
      ]
    },
    {
      "attachments": {},
      "cell_type": "markdown",
      "metadata": {},
      "source": [
        "Extract the details of the best model:"
      ]
    },
    {
      "cell_type": "code",
      "execution_count": 236,
      "metadata": {},
      "outputs": [
        {
          "data": {
            "text/plain": [
              "'RandomForestClassifier'"
            ]
          },
          "execution_count": 236,
          "metadata": {},
          "output_type": "execute_result"
        }
      ],
      "source": [
        "best_model_2 = grid_search_summary_2.iloc[0,0]\n",
        "best_model_2"
      ]
    },
    {
      "attachments": {},
      "cell_type": "markdown",
      "metadata": {},
      "source": [
        "And the best parameters:"
      ]
    },
    {
      "cell_type": "code",
      "execution_count": 237,
      "metadata": {},
      "outputs": [
        {
          "data": {
            "text/plain": [
              "{'model__max_depth': 15,\n",
              " 'model__max_features': None,\n",
              " 'model__max_leaf_nodes': 50,\n",
              " 'model__min_samples_leaf': 25,\n",
              " 'model__min_samples_split': 25,\n",
              " 'model__n_estimators': 140}"
            ]
          },
          "execution_count": 237,
          "metadata": {},
          "output_type": "execute_result"
        }
      ],
      "source": [
        "best_parameters_2 = grid_search_pipelines_2[best_model_2].best_params_\n",
        "best_parameters_2"
      ]
    },
    {
      "attachments": {},
      "cell_type": "markdown",
      "metadata": {},
      "source": [
        "Retrieve the pipeline that contains the best algorithm:"
      ]
    },
    {
      "cell_type": "code",
      "execution_count": 238,
      "metadata": {},
      "outputs": [
        {
          "data": {
            "text/plain": [
              "Pipeline(steps=[('scaler', StandardScaler()),\n",
              "                ('feat_selection',\n",
              "                 SelectFromModel(estimator=RandomForestClassifier(random_state=0))),\n",
              "                ('model',\n",
              "                 RandomForestClassifier(max_depth=15, max_features=None,\n",
              "                                        max_leaf_nodes=50, min_samples_leaf=25,\n",
              "                                        min_samples_split=25, n_estimators=140,\n",
              "                                        random_state=0))])"
            ]
          },
          "execution_count": 238,
          "metadata": {},
          "output_type": "execute_result"
        }
      ],
      "source": [
        "pipeline_clf_2 = grid_search_pipelines_2[best_model_2].best_estimator_\n",
        "pipeline_clf_2"
      ]
    },
    {
      "attachments": {},
      "cell_type": "markdown",
      "metadata": {},
      "source": [
        "Identify the most important features in the pipeline:"
      ]
    },
    {
      "cell_type": "code",
      "execution_count": 242,
      "metadata": {},
      "outputs": [
        {
          "name": "stdout",
          "output_type": "stream",
          "text": [
            "* These are the 6 most important features in descending order. The model was trained on them: \n",
            "['total_default', 'education', 'bill_sep', 'credit_limit', 'prev_payment_aug', 'prev_payment_sep']\n"
          ]
        },
        {
          "data": {
            "image/png": "[encoded data removed]",
            "text/plain": [
              "<Figure size 640x480 with 1 Axes>"
            ]
          },
          "metadata": {},
          "output_type": "display_data"
        }
      ],
      "source": [
        "# create DataFrame to display feature importance\n",
        "df_feature_importance_2 = (pd.DataFrame(data={\n",
        "    'Feature': X_train.columns[pipeline_clf_2['feat_selection'].get_support()],\n",
        "    'Importance': pipeline_clf_2['model'].feature_importances_})\n",
        "    .sort_values(by='Importance', ascending=False)\n",
        ")\n",
        "\n",
        "# re-assign best_features order\n",
        "best_features_2 = df_feature_importance_2['Feature'].to_list()\n",
        "\n",
        "# Most important features statement and plot\n",
        "print(f\"* These are the {len(best_features_2)} most important features in descending order. \"\n",
        "      f\"The model was trained on them: \\n{df_feature_importance_2['Feature'].to_list()}\")\n",
        "\n",
        "df_feature_importance_2.plot(kind='bar', x='Feature', y='Importance')\n",
        "plt.show()\n"
      ]
    },
    {
      "attachments": {},
      "cell_type": "markdown",
      "metadata": {},
      "source": [
        "These features make somewhat more sense, with `total_default` ranked the highest. Finally, we can evaluate the confusion matrix and classification report:"
      ]
    },
    {
      "cell_type": "code",
      "execution_count": 243,
      "metadata": {},
      "outputs": [],
      "source": [
        "from sklearn.metrics import classification_report, confusion_matrix\n",
        "\n",
        "\n",
        "def confusion_matrix_and_report(X, y, pipeline, label_map):\n",
        "\n",
        "    prediction = pipeline.predict(X)\n",
        "\n",
        "    print('---  Confusion Matrix  ---')\n",
        "    print(pd.DataFrame(confusion_matrix(y_true=prediction, y_pred=y),\n",
        "          columns=[[\"Actual \" + sub for sub in label_map]],\n",
        "          index=[[\"Prediction \" + sub for sub in label_map]]\n",
        "          ))\n",
        "    print(\"\\n\")\n",
        "\n",
        "    print('---  Classification Report  ---')\n",
        "    print(classification_report(y, prediction, target_names=label_map), \"\\n\")\n",
        "\n",
        "\n",
        "def clf_performance(X_train, y_train, X_test, y_test, pipeline, label_map):\n",
        "    print(\"#### Train Set #### \\n\")\n",
        "    confusion_matrix_and_report(X_train, y_train, pipeline, label_map)\n",
        "\n",
        "    print(\"#### Test Set ####\\n\")\n",
        "    confusion_matrix_and_report(X_test, y_test, pipeline, label_map)\n"
      ]
    },
    {
      "cell_type": "code",
      "execution_count": 244,
      "metadata": {},
      "outputs": [
        {
          "name": "stdout",
          "output_type": "stream",
          "text": [
            "#### Train Set #### \n",
            "\n",
            "---  Confusion Matrix  ---\n",
            "                      Actual No Default Actual Default\n",
            "Prediction No Default             16068           4645\n",
            "Prediction Default                 2609          14032\n",
            "\n",
            "\n",
            "---  Classification Report  ---\n",
            "              precision    recall  f1-score   support\n",
            "\n",
            "  No Default       0.78      0.86      0.82     18677\n",
            "     Default       0.84      0.75      0.79     18677\n",
            "\n",
            "    accuracy                           0.81     37354\n",
            "   macro avg       0.81      0.81      0.81     37354\n",
            "weighted avg       0.81      0.81      0.81     37354\n",
            " \n",
            "\n",
            "#### Test Set ####\n",
            "\n",
            "---  Confusion Matrix  ---\n",
            "                      Actual No Default Actual Default\n",
            "Prediction No Default              4009            683\n",
            "Prediction Default                  678            630\n",
            "\n",
            "\n",
            "---  Classification Report  ---\n",
            "              precision    recall  f1-score   support\n",
            "\n",
            "  No Default       0.85      0.86      0.85      4687\n",
            "     Default       0.48      0.48      0.48      1313\n",
            "\n",
            "    accuracy                           0.77      6000\n",
            "   macro avg       0.67      0.67      0.67      6000\n",
            "weighted avg       0.77      0.77      0.77      6000\n",
            " \n",
            "\n"
          ]
        }
      ],
      "source": [
        "clf_performance(X_train=X_train, y_train=y_train,\n",
        "                X_test=X_test, y_test=y_test,\n",
        "                pipeline=pipeline_clf_2,\n",
        "                label_map= ['No Default', 'Default'] \n",
        "                )"
      ]
    },
    {
      "attachments": {},
      "cell_type": "markdown",
      "metadata": {},
      "source": [
        "## Evaluation and Next Steps"
      ]
    },
    {
      "attachments": {},
      "cell_type": "markdown",
      "metadata": {},
      "source": [
        "This shows a somewhat improved performance; the model is scoring lower on the train set but higher on the test set than in the first attempt, suggesting that it is better able to generalise to unseen data. However, its performance in classifying the desired metric of Default is still relatively weak, with precision, recall and F1 scores all below 0.5.\n",
        "\n",
        "At this point, we have a number of options:\n",
        "* We could attempt further hyperparameter tuning on the current dataset with the current algorithms, `ExtraTreesClassifier` and `RandomForestClassifier`.\n",
        "* We noted above that applying the SMOTE technique to the dataset could lead to the model overfitting, so we can return to this step and undersample the majority class instead.\n",
        "* We can look further down our initial list of algorithms from when we tested them all with their default hyperparameters. The next highest two algorithms, both with similar mean scores of 0.76, were `XGBClassifier`\t and `GradientBoostingClassifier`\n",
        "* We can also consider trying neural network models, since these may be better able to capture complex patterns in the data.\n",
        "\n",
        "We have already performed hyperparameter tuning on `ExtraTreesClassifier` and `RandomForestClassifier` and achieved improved performance. However, the model's ability to predict default in the test set is still significantly below our success metric of 80% for the F1 score. Further tuning may not lead to sufficient improvements to reach this metric. It seems most appropriate to attempt the other steps first and only return to this as a last resort.\n",
        "\n",
        "The most sensible ordering of the remaining steps seems to be:\n",
        "\n",
        "1. Try hyperparameter tuning for `XGBClassifier` and `GradientBoostingClassifier`, since this can be done in the current notebook as an extension of the existing workflow.\n",
        "2. If this is not successful, move to a new workbook; start from the 'Handle Target Imbalance' step above. Instead of applying SMOTE at this point, use undersampling, then repeat the following steps to train the ML pipeline.\n",
        "3. Finally, we can also try applying a neural network model. Given the computational resources this is likely to require and that the current cells are already computationally challenging to run for the available processing capacity, it makes sense to keep this separate from the current set of algorithms being considered."
      ]
    },
    {
      "attachments": {},
      "cell_type": "markdown",
      "metadata": {},
      "source": [
        "## Hyperparameter optimisation for XGBClassifier and GradientBoostingClassifier"
      ]
    },
    {
      "attachments": {},
      "cell_type": "markdown",
      "metadata": {},
      "source": [
        "`XGBClassifier` and `GradientBoostingClassifier` are both gradient boosting algorithms that train the model iteratively by combining multiple weak prediction models to create a strong predictive model.\n",
        "\n",
        "The [XGBoost docs](https://xgboost.readthedocs.io/en/latest/tutorials/param_tuning.html) include some clear and useful guidelines for hyperparameter tuning, and the [GradientBoostingClassifier docs](https://scikit-learn.org/stable/modules/generated/sklearn.ensemble.GradientBoostingClassifier.html) also define the numerous parameters that can be tuned for this algorithm.\n",
        "\n",
        "Since we know that overfitting has previously been a concern, values are chosen to try and prevent this:\n",
        "* `n_estimators` determines the number of boosting rounds or weak learners to be included. Increasing the number of estimators may improve performance, but it can also lead to longer training times. These are set to 30, 80, 200 for `XGBClassifier` and 100, 50, 140 for `GradientBoostingClassifier`.\n",
        "* `max_depth` represents the maximum depth of each decision tree in the ensemble. Higher values allow the model to capture more complex relationships, but they also increase the risk of overfitting. Here we evaluate values of None, 3, 15 for both algorithms.\n",
        "* `learning_rate` controls the step size during the boosting process. Lower values make the model more conservative by taking smaller steps, while higher values make it more aggressive. Values of 0.001, 0.01, 0.1 are tested for both algorithms.\n",
        "* In `XGBClassifier` only:\n",
        "    - `subsample` specifies the fraction of training instances to be used for each boosting round. It can help prevent overfitting and increase generalization. Here we test values of 0.5, 0.7, 0.9.\n",
        "    - `gamma` specifies the minimum reduction in loss required to split a node further. Values of 0.0, 0.1 and 0.3 are considered.\n",
        "    - `colsample_bytree` determines the fraction of features to be randomly sampled for each tree. Higher values result in more randomness and can help reduce overfitting. We consider values of 0.5, 0.75, 1.0.\n",
        "    - `min_child_weight` sets the minimum sum of instance weights needed in a child node for further splitting, and can help control the complexity of the trees. Values of 1, 5, 10 are considered here.\n",
        "* In `GradientBoostingClassifier` only, we consider the following hyperparameters, whose functionality is described above, since it also applies to `RandomForestClassifier` and `ExtraTreesClassifier`:\n",
        "    - min_samples_split; values considered are 2, 25, 50\n",
        "    - min_samples_leaf; values considered are 1, 25, 50\n",
        "    - max_leaf_nodes; values considered are None, 25, 50\n",
        "\n",
        "    Again, the models and hyperparameters for the detailed search are defined:"
      ]
    },
    {
      "cell_type": "code",
      "execution_count": 216,
      "metadata": {},
      "outputs": [],
      "source": [
        "models_search_3 = {\n",
        "    \"XGBClassifier\": XGBClassifier(random_state=0),\n",
        "    \"GradientBoostingClassifier\": GradientBoostingClassifier(random_state=0),\n",
        "}\n",
        "\n",
        "params_search_3 = {\n",
        "    \"XGBClassifier\":{\n",
        "      'model__n_estimators': [30, 80, 200],\n",
        "      'model__max_depth': [None, 3, 15],\n",
        "      'model__learning_rate': [0.001, 0.01, 0.1],\n",
        "      'model__gamma': [0, 0.1, 0.3],\n",
        "     'model__subsample': [0.5, 0.7, 0.9],\n",
        "     'model__colsample_bytree': [0.5, 0.75, 1.0],\n",
        "     'model__min_child_weight': [1, 5, 10]\n",
        "    },\n",
        "    \"GradientBoostingClassifier\":{\n",
        "      'model__n_estimators': [100, 50, 140],\n",
        "      'model__learning_rate':[0.1, 0.01, 0.001],\n",
        "      'model__max_depth': [3, 15, None],\n",
        "      'model__min_samples_split': [2, 25, 50],\n",
        "      'model__min_samples_leaf': [1, 25, 50],\n",
        "      'model__max_leaf_nodes': [None, 25, 50]\n",
        "    },\n",
        "  }"
      ]
    },
    {
      "attachments": {},
      "cell_type": "markdown",
      "metadata": {},
      "source": [
        "We conduct the search:"
      ]
    },
    {
      "cell_type": "code",
      "execution_count": 217,
      "metadata": {},
      "outputs": [
        {
          "name": "stdout",
          "output_type": "stream",
          "text": [
            "\n",
            "Running GridSearchCV for XGBClassifier \n",
            "\n",
            "Fitting 5 folds for each of 2187 candidates, totalling 10935 fits\n",
            "\n",
            "Running GridSearchCV for GradientBoostingClassifier \n",
            "\n",
            "Fitting 5 folds for each of 729 candidates, totalling 3645 fits\n"
          ]
        }
      ],
      "source": [
        "detail_search_3 = HyperparameterOptimizationSearch(models=models_search_3, params=params_search_3)\n",
        "detail_search_3.fit(X_train, y_train,\n",
        "           scoring =  make_scorer(f1_score),\n",
        "           n_jobs=-1, cv=5)"
      ]
    },
    {
      "attachments": {},
      "cell_type": "markdown",
      "metadata": {},
      "source": [
        "Check the results:"
      ]
    },
    {
      "cell_type": "code",
      "execution_count": 222,
      "metadata": {},
      "outputs": [
        {
          "data": {
            "text/html": [
              "<div>\n",
              "<style scoped>\n",
              "    .dataframe tbody tr th:only-of-type {\n",
              "        vertical-align: middle;\n",
              "    }\n",
              "\n",
              "    .dataframe tbody tr th {\n",
              "        vertical-align: top;\n",
              "    }\n",
              "\n",
              "    .dataframe thead th {\n",
              "        text-align: right;\n",
              "    }\n",
              "</style>\n",
              "<table border=\"1\" class=\"dataframe\">\n",
              "  <thead>\n",
              "    <tr style=\"text-align: right;\">\n",
              "      <th></th>\n",
              "      <th>estimator</th>\n",
              "      <th>min_score</th>\n",
              "      <th>mean_score</th>\n",
              "      <th>max_score</th>\n",
              "      <th>std_score</th>\n",
              "      <th>model__colsample_bytree</th>\n",
              "      <th>model__gamma</th>\n",
              "      <th>model__learning_rate</th>\n",
              "      <th>model__max_depth</th>\n",
              "      <th>model__min_child_weight</th>\n",
              "      <th>model__n_estimators</th>\n",
              "      <th>model__subsample</th>\n",
              "      <th>model__max_leaf_nodes</th>\n",
              "      <th>model__min_samples_leaf</th>\n",
              "      <th>model__min_samples_split</th>\n",
              "    </tr>\n",
              "  </thead>\n",
              "  <tbody>\n",
              "    <tr>\n",
              "      <th>1656</th>\n",
              "      <td>XGBClassifier</td>\n",
              "      <td>0.610475</td>\n",
              "      <td>0.779098</td>\n",
              "      <td>0.844765</td>\n",
              "      <td>0.089087</td>\n",
              "      <td>1.0</td>\n",
              "      <td>0</td>\n",
              "      <td>0.1</td>\n",
              "      <td>3</td>\n",
              "      <td>5</td>\n",
              "      <td>30</td>\n",
              "      <td>0.5</td>\n",
              "      <td>NaN</td>\n",
              "      <td>NaN</td>\n",
              "      <td>NaN</td>\n",
              "    </tr>\n",
              "    <tr>\n",
              "      <th>2142</th>\n",
              "      <td>XGBClassifier</td>\n",
              "      <td>0.610475</td>\n",
              "      <td>0.779098</td>\n",
              "      <td>0.844765</td>\n",
              "      <td>0.089087</td>\n",
              "      <td>1.0</td>\n",
              "      <td>0.3</td>\n",
              "      <td>0.1</td>\n",
              "      <td>3</td>\n",
              "      <td>5</td>\n",
              "      <td>30</td>\n",
              "      <td>0.5</td>\n",
              "      <td>NaN</td>\n",
              "      <td>NaN</td>\n",
              "      <td>NaN</td>\n",
              "    </tr>\n",
              "    <tr>\n",
              "      <th>1899</th>\n",
              "      <td>XGBClassifier</td>\n",
              "      <td>0.610475</td>\n",
              "      <td>0.779098</td>\n",
              "      <td>0.844765</td>\n",
              "      <td>0.089087</td>\n",
              "      <td>1.0</td>\n",
              "      <td>0.1</td>\n",
              "      <td>0.1</td>\n",
              "      <td>3</td>\n",
              "      <td>5</td>\n",
              "      <td>30</td>\n",
              "      <td>0.5</td>\n",
              "      <td>NaN</td>\n",
              "      <td>NaN</td>\n",
              "      <td>NaN</td>\n",
              "    </tr>\n",
              "    <tr>\n",
              "      <th>1909</th>\n",
              "      <td>XGBClassifier</td>\n",
              "      <td>0.614769</td>\n",
              "      <td>0.778717</td>\n",
              "      <td>0.843258</td>\n",
              "      <td>0.086495</td>\n",
              "      <td>1.0</td>\n",
              "      <td>0.1</td>\n",
              "      <td>0.1</td>\n",
              "      <td>3</td>\n",
              "      <td>10</td>\n",
              "      <td>30</td>\n",
              "      <td>0.7</td>\n",
              "      <td>NaN</td>\n",
              "      <td>NaN</td>\n",
              "      <td>NaN</td>\n",
              "    </tr>\n",
              "    <tr>\n",
              "      <th>2152</th>\n",
              "      <td>XGBClassifier</td>\n",
              "      <td>0.614769</td>\n",
              "      <td>0.778717</td>\n",
              "      <td>0.843258</td>\n",
              "      <td>0.086495</td>\n",
              "      <td>1.0</td>\n",
              "      <td>0.3</td>\n",
              "      <td>0.1</td>\n",
              "      <td>3</td>\n",
              "      <td>10</td>\n",
              "      <td>30</td>\n",
              "      <td>0.7</td>\n",
              "      <td>NaN</td>\n",
              "      <td>NaN</td>\n",
              "      <td>NaN</td>\n",
              "    </tr>\n",
              "    <tr>\n",
              "      <th>...</th>\n",
              "      <td>...</td>\n",
              "      <td>...</td>\n",
              "      <td>...</td>\n",
              "      <td>...</td>\n",
              "      <td>...</td>\n",
              "      <td>...</td>\n",
              "      <td>...</td>\n",
              "      <td>...</td>\n",
              "      <td>...</td>\n",
              "      <td>...</td>\n",
              "      <td>...</td>\n",
              "      <td>...</td>\n",
              "      <td>...</td>\n",
              "      <td>...</td>\n",
              "      <td>...</td>\n",
              "    </tr>\n",
              "    <tr>\n",
              "      <th>1580</th>\n",
              "      <td>XGBClassifier</td>\n",
              "      <td>0.671064</td>\n",
              "      <td>0.724102</td>\n",
              "      <td>0.752508</td>\n",
              "      <td>0.028709</td>\n",
              "      <td>1.0</td>\n",
              "      <td>0</td>\n",
              "      <td>0.01</td>\n",
              "      <td>3</td>\n",
              "      <td>5</td>\n",
              "      <td>80</td>\n",
              "      <td>0.9</td>\n",
              "      <td>NaN</td>\n",
              "      <td>NaN</td>\n",
              "      <td>NaN</td>\n",
              "    </tr>\n",
              "    <tr>\n",
              "      <th>2075</th>\n",
              "      <td>XGBClassifier</td>\n",
              "      <td>0.671064</td>\n",
              "      <td>0.724102</td>\n",
              "      <td>0.752508</td>\n",
              "      <td>0.028709</td>\n",
              "      <td>1.0</td>\n",
              "      <td>0.3</td>\n",
              "      <td>0.01</td>\n",
              "      <td>3</td>\n",
              "      <td>10</td>\n",
              "      <td>80</td>\n",
              "      <td>0.9</td>\n",
              "      <td>NaN</td>\n",
              "      <td>NaN</td>\n",
              "      <td>NaN</td>\n",
              "    </tr>\n",
              "    <tr>\n",
              "      <th>1814</th>\n",
              "      <td>XGBClassifier</td>\n",
              "      <td>0.671064</td>\n",
              "      <td>0.724102</td>\n",
              "      <td>0.752508</td>\n",
              "      <td>0.028709</td>\n",
              "      <td>1.0</td>\n",
              "      <td>0.1</td>\n",
              "      <td>0.01</td>\n",
              "      <td>3</td>\n",
              "      <td>1</td>\n",
              "      <td>80</td>\n",
              "      <td>0.9</td>\n",
              "      <td>NaN</td>\n",
              "      <td>NaN</td>\n",
              "      <td>NaN</td>\n",
              "    </tr>\n",
              "    <tr>\n",
              "      <th>1589</th>\n",
              "      <td>XGBClassifier</td>\n",
              "      <td>0.671064</td>\n",
              "      <td>0.724102</td>\n",
              "      <td>0.752508</td>\n",
              "      <td>0.028709</td>\n",
              "      <td>1.0</td>\n",
              "      <td>0</td>\n",
              "      <td>0.01</td>\n",
              "      <td>3</td>\n",
              "      <td>10</td>\n",
              "      <td>80</td>\n",
              "      <td>0.9</td>\n",
              "      <td>NaN</td>\n",
              "      <td>NaN</td>\n",
              "      <td>NaN</td>\n",
              "    </tr>\n",
              "    <tr>\n",
              "      <th>2066</th>\n",
              "      <td>XGBClassifier</td>\n",
              "      <td>0.671064</td>\n",
              "      <td>0.724102</td>\n",
              "      <td>0.752508</td>\n",
              "      <td>0.028709</td>\n",
              "      <td>1.0</td>\n",
              "      <td>0.3</td>\n",
              "      <td>0.01</td>\n",
              "      <td>3</td>\n",
              "      <td>5</td>\n",
              "      <td>80</td>\n",
              "      <td>0.9</td>\n",
              "      <td>NaN</td>\n",
              "      <td>NaN</td>\n",
              "      <td>NaN</td>\n",
              "    </tr>\n",
              "  </tbody>\n",
              "</table>\n",
              "<p>2916 rows × 15 columns</p>\n",
              "</div>"
            ],
            "text/plain": [
              "          estimator min_score mean_score max_score std_score  \\\n",
              "1656  XGBClassifier  0.610475   0.779098  0.844765  0.089087   \n",
              "2142  XGBClassifier  0.610475   0.779098  0.844765  0.089087   \n",
              "1899  XGBClassifier  0.610475   0.779098  0.844765  0.089087   \n",
              "1909  XGBClassifier  0.614769   0.778717  0.843258  0.086495   \n",
              "2152  XGBClassifier  0.614769   0.778717  0.843258  0.086495   \n",
              "...             ...       ...        ...       ...       ...   \n",
              "1580  XGBClassifier  0.671064   0.724102  0.752508  0.028709   \n",
              "2075  XGBClassifier  0.671064   0.724102  0.752508  0.028709   \n",
              "1814  XGBClassifier  0.671064   0.724102  0.752508  0.028709   \n",
              "1589  XGBClassifier  0.671064   0.724102  0.752508  0.028709   \n",
              "2066  XGBClassifier  0.671064   0.724102  0.752508  0.028709   \n",
              "\n",
              "     model__colsample_bytree model__gamma model__learning_rate  \\\n",
              "1656                     1.0            0                  0.1   \n",
              "2142                     1.0          0.3                  0.1   \n",
              "1899                     1.0          0.1                  0.1   \n",
              "1909                     1.0          0.1                  0.1   \n",
              "2152                     1.0          0.3                  0.1   \n",
              "...                      ...          ...                  ...   \n",
              "1580                     1.0            0                 0.01   \n",
              "2075                     1.0          0.3                 0.01   \n",
              "1814                     1.0          0.1                 0.01   \n",
              "1589                     1.0            0                 0.01   \n",
              "2066                     1.0          0.3                 0.01   \n",
              "\n",
              "     model__max_depth model__min_child_weight model__n_estimators  \\\n",
              "1656                3                       5                  30   \n",
              "2142                3                       5                  30   \n",
              "1899                3                       5                  30   \n",
              "1909                3                      10                  30   \n",
              "2152                3                      10                  30   \n",
              "...               ...                     ...                 ...   \n",
              "1580                3                       5                  80   \n",
              "2075                3                      10                  80   \n",
              "1814                3                       1                  80   \n",
              "1589                3                      10                  80   \n",
              "2066                3                       5                  80   \n",
              "\n",
              "     model__subsample model__max_leaf_nodes model__min_samples_leaf  \\\n",
              "1656              0.5                   NaN                     NaN   \n",
              "2142              0.5                   NaN                     NaN   \n",
              "1899              0.5                   NaN                     NaN   \n",
              "1909              0.7                   NaN                     NaN   \n",
              "2152              0.7                   NaN                     NaN   \n",
              "...               ...                   ...                     ...   \n",
              "1580              0.9                   NaN                     NaN   \n",
              "2075              0.9                   NaN                     NaN   \n",
              "1814              0.9                   NaN                     NaN   \n",
              "1589              0.9                   NaN                     NaN   \n",
              "2066              0.9                   NaN                     NaN   \n",
              "\n",
              "     model__min_samples_split  \n",
              "1656                      NaN  \n",
              "2142                      NaN  \n",
              "1899                      NaN  \n",
              "1909                      NaN  \n",
              "2152                      NaN  \n",
              "...                       ...  \n",
              "1580                      NaN  \n",
              "2075                      NaN  \n",
              "1814                      NaN  \n",
              "1589                      NaN  \n",
              "2066                      NaN  \n",
              "\n",
              "[2916 rows x 15 columns]"
            ]
          },
          "execution_count": 222,
          "metadata": {},
          "output_type": "execute_result"
        }
      ],
      "source": [
        "grid_search_summary_3, grid_search_pipelines_3 = detail_search_3.score_summary(sort_by='mean_score')\n",
        "grid_search_summary_3"
      ]
    },
    {
      "attachments": {},
      "cell_type": "markdown",
      "metadata": {},
      "source": [
        "Extract the details of the best model:"
      ]
    },
    {
      "cell_type": "code",
      "execution_count": 223,
      "metadata": {},
      "outputs": [
        {
          "data": {
            "text/plain": [
              "'XGBClassifier'"
            ]
          },
          "execution_count": 223,
          "metadata": {},
          "output_type": "execute_result"
        }
      ],
      "source": [
        "best_model_3 = grid_search_summary_3.iloc[0,0]\n",
        "best_model_3"
      ]
    },
    {
      "attachments": {},
      "cell_type": "markdown",
      "metadata": {},
      "source": [
        "And the best parameters:"
      ]
    },
    {
      "cell_type": "code",
      "execution_count": 225,
      "metadata": {},
      "outputs": [
        {
          "data": {
            "text/plain": [
              "{'model__colsample_bytree': 1.0,\n",
              " 'model__gamma': 0,\n",
              " 'model__learning_rate': 0.1,\n",
              " 'model__max_depth': 3,\n",
              " 'model__min_child_weight': 5,\n",
              " 'model__n_estimators': 30,\n",
              " 'model__subsample': 0.5}"
            ]
          },
          "execution_count": 225,
          "metadata": {},
          "output_type": "execute_result"
        }
      ],
      "source": [
        "best_parameters_3 = grid_search_pipelines_3[best_model_3].best_params_\n",
        "best_parameters_3"
      ]
    },
    {
      "attachments": {},
      "cell_type": "markdown",
      "metadata": {},
      "source": [
        "Retrieve the pipeline that contains the best algorithm:"
      ]
    },
    {
      "cell_type": "code",
      "execution_count": 226,
      "metadata": {},
      "outputs": [
        {
          "data": {
            "text/plain": [
              "Pipeline(steps=[('scaler', StandardScaler()),\n",
              "                ('feat_selection',\n",
              "                 SelectFromModel(estimator=XGBClassifier(base_score=None,\n",
              "                                                         booster=None,\n",
              "                                                         colsample_bylevel=None,\n",
              "                                                         colsample_bynode=None,\n",
              "                                                         colsample_bytree=None,\n",
              "                                                         gamma=None,\n",
              "                                                         gpu_id=None,\n",
              "                                                         importance_type='gain',\n",
              "                                                         interaction_constraints=None,\n",
              "                                                         learning_rate=None,\n",
              "                                                         max_delta_step=None,\n",
              "                                                         max_depth=None,\n",
              "                                                         min_child_weight=None,\n",
              "                                                         m...\n",
              "                               colsample_bytree=1.0, gamma=0, gpu_id=-1,\n",
              "                               importance_type='gain',\n",
              "                               interaction_constraints='', learning_rate=0.1,\n",
              "                               max_delta_step=0, max_depth=3,\n",
              "                               min_child_weight=5, missing=nan,\n",
              "                               monotone_constraints='()', n_estimators=30,\n",
              "                               n_jobs=0, num_parallel_tree=1, random_state=0,\n",
              "                               reg_alpha=0, reg_lambda=1, scale_pos_weight=1,\n",
              "                               subsample=0.5, tree_method='exact',\n",
              "                               validate_parameters=1, verbosity=None))])"
            ]
          },
          "execution_count": 226,
          "metadata": {},
          "output_type": "execute_result"
        }
      ],
      "source": [
        "pipeline_clf_3 = grid_search_pipelines_3[best_model_3].best_estimator_\n",
        "pipeline_clf_3"
      ]
    },
    {
      "attachments": {},
      "cell_type": "markdown",
      "metadata": {},
      "source": [
        "Identify the most important features in the pipeline:"
      ]
    },
    {
      "cell_type": "code",
      "execution_count": 245,
      "metadata": {},
      "outputs": [
        {
          "name": "stdout",
          "output_type": "stream",
          "text": [
            "* These are the 5 most important features in descending order. The model was trained on them: \n",
            "['total_default', 'education', 'sex_female', 'marital_status_single', 'late_jul']\n"
          ]
        },
        {
          "data": {
            "image/png": "[encoded data removed]",
            "text/plain": [
              "<Figure size 640x480 with 1 Axes>"
            ]
          },
          "metadata": {},
          "output_type": "display_data"
        }
      ],
      "source": [
        "# create DataFrame to display feature importance\n",
        "df_feature_importance_3 = (pd.DataFrame(data={\n",
        "    'Feature': X_train.columns[pipeline_clf_3['feat_selection'].get_support()],\n",
        "    'Importance': pipeline_clf_3['model'].feature_importances_})\n",
        "    .sort_values(by='Importance', ascending=False)\n",
        ")\n",
        "\n",
        "# re-assign best_features order\n",
        "best_features_3 = df_feature_importance_3['Feature'].to_list()\n",
        "\n",
        "# Most important features statement and plot\n",
        "print(f\"* These are the {len(best_features_3)} most important features in descending order. \"\n",
        "      f\"The model was trained on them: \\n{df_feature_importance_3['Feature'].to_list()}\")\n",
        "\n",
        "df_feature_importance_3.plot(kind='bar', x='Feature', y='Importance')\n",
        "plt.show()\n"
      ]
    },
    {
      "attachments": {},
      "cell_type": "markdown",
      "metadata": {},
      "source": [
        "These features and their relative importance make sense, with `total_default` significantly more important than the other contributing features.\n",
        "\n",
        "Finally, we evaluate the confusion matrix and classification report:"
      ]
    },
    {
      "cell_type": "code",
      "execution_count": 246,
      "metadata": {},
      "outputs": [],
      "source": [
        "from sklearn.metrics import classification_report, confusion_matrix\n",
        "\n",
        "\n",
        "def confusion_matrix_and_report(X, y, pipeline, label_map):\n",
        "\n",
        "    prediction = pipeline.predict(X)\n",
        "\n",
        "    print('---  Confusion Matrix  ---')\n",
        "    print(pd.DataFrame(confusion_matrix(y_true=prediction, y_pred=y),\n",
        "          columns=[[\"Actual \" + sub for sub in label_map]],\n",
        "          index=[[\"Prediction \" + sub for sub in label_map]]\n",
        "          ))\n",
        "    print(\"\\n\")\n",
        "\n",
        "    print('---  Classification Report  ---')\n",
        "    print(classification_report(y, prediction, target_names=label_map), \"\\n\")\n",
        "\n",
        "\n",
        "def clf_performance(X_train, y_train, X_test, y_test, pipeline, label_map):\n",
        "    print(\"#### Train Set #### \\n\")\n",
        "    confusion_matrix_and_report(X_train, y_train, pipeline, label_map)\n",
        "\n",
        "    print(\"#### Test Set ####\\n\")\n",
        "    confusion_matrix_and_report(X_test, y_test, pipeline, label_map)"
      ]
    },
    {
      "cell_type": "code",
      "execution_count": 247,
      "metadata": {},
      "outputs": [
        {
          "name": "stdout",
          "output_type": "stream",
          "text": [
            "#### Train Set #### \n",
            "\n",
            "---  Confusion Matrix  ---\n",
            "                      Actual No Default Actual Default\n",
            "Prediction No Default             15608           4491\n",
            "Prediction Default                 3069          14186\n",
            "\n",
            "\n",
            "---  Classification Report  ---\n",
            "              precision    recall  f1-score   support\n",
            "\n",
            "  No Default       0.78      0.84      0.81     18677\n",
            "     Default       0.82      0.76      0.79     18677\n",
            "\n",
            "    accuracy                           0.80     37354\n",
            "   macro avg       0.80      0.80      0.80     37354\n",
            "weighted avg       0.80      0.80      0.80     37354\n",
            " \n",
            "\n",
            "#### Test Set ####\n",
            "\n",
            "---  Confusion Matrix  ---\n",
            "                      Actual No Default Actual Default\n",
            "Prediction No Default              3872            605\n",
            "Prediction Default                  815            708\n",
            "\n",
            "\n",
            "---  Classification Report  ---\n",
            "              precision    recall  f1-score   support\n",
            "\n",
            "  No Default       0.86      0.83      0.85      4687\n",
            "     Default       0.46      0.54      0.50      1313\n",
            "\n",
            "    accuracy                           0.76      6000\n",
            "   macro avg       0.66      0.68      0.67      6000\n",
            "weighted avg       0.78      0.76      0.77      6000\n",
            " \n",
            "\n"
          ]
        }
      ],
      "source": [
        "clf_performance(X_train=X_train, y_train=y_train,\n",
        "                X_test=X_test, y_test=y_test,\n",
        "                pipeline=pipeline_clf_3,\n",
        "                label_map= ['No Default', 'Default'] \n",
        "                )"
      ]
    },
    {
      "attachments": {},
      "cell_type": "markdown",
      "metadata": {},
      "source": [
        "Performance is again somewhat improved but overall disappointing. The model is scoring lower on the train set but higher on the test set than in our initial attempt, suggesting that it is better able to generalise to unseen data. Its performance on the test set in classifying the desired metric of Default is also better than on the second attempt above. However, it is still relatively weak, with precision, recall and F1 scores all around 0.5, well below our target of 0.8.\n",
        "\n",
        "As such, we will save the current outputs and begin a new notebook to investigate whether another method "
      ]
    },
    {
      "attachments": {},
      "cell_type": "markdown",
      "metadata": {},
      "source": [
        "---"
      ]
    },
    {
      "attachments": {},
      "cell_type": "markdown",
      "metadata": {
        "id": "ltNetd085qHf"
      },
      "source": [
        "# Push files to Repo"
      ]
    },
    {
      "attachments": {},
      "cell_type": "markdown",
      "metadata": {},
      "source": [
        "We will create the following files:\n",
        "* Train set\n",
        "* Test set\n",
        "* Data cleaning and feature engineering pipeline\n",
        "* Modelling pipeline 1\n",
        "    - The pipeline resulting from our initial attempt at hyperparameter optimisation with `ExtraTreesClassifier` and `RandomForestClassifier`\n",
        "* Modelling pipeline 2\n",
        "    - The pipeline resulting from our revised attempt at hyperparameter optimisation with `ExtraTreesClassifier` and `RandomForestClassifier`\n",
        "* Modelling pipeline 3\n",
        "    - The pipeline resulting from our attempt at hyperparameter optimisation with `XGBClassifier` and `GradientBoostingClassifier`\n",
        "* Feature importance plot 1\n",
        "    - The plot resulting from our initial attempt at hyperparameter optimisation with `ExtraTreesClassifier` and `RandomForestClassifier`\n",
        "* Feature importance plot 2\n",
        "    - The plot resulting from our revised attempt at hyperparameter optimisation with `ExtraTreesClassifier` and `RandomForestClassifier`\n",
        "* Feature importance plot 3\n",
        "    - The plot resulting from our attempt at hyperparameter optimisation with `XGBClassifier` and `GradientBoostingClassifier`"
      ]
    },
    {
      "cell_type": "code",
      "execution_count": 248,
      "metadata": {
        "id": "aKlnIozA4eQO",
        "outputId": "fd09bc1f-adb1-4511-f6ce-492a6af570c0"
      },
      "outputs": [],
      "source": [
        "import joblib\n",
        "import os\n",
        "\n",
        "version = 'v1'\n",
        "file_path = f'outputs/ml_pipeline/predict_default/{version}'\n",
        "\n",
        "try:\n",
        "    os.makedirs(name=file_path)\n",
        "except Exception as e:\n",
        "    print(e)"
      ]
    },
    {
      "attachments": {},
      "cell_type": "markdown",
      "metadata": {},
      "source": [
        "## Train Set"
      ]
    },
    {
      "attachments": {},
      "cell_type": "markdown",
      "metadata": {},
      "source": [
        "Note that the variables are transformed already and that the shape is (37354, 15) - i.e., SMOTE has already been applied. As such, if we generate a new train set using undersampling, it should look very different!"
      ]
    },
    {
      "cell_type": "code",
      "execution_count": 249,
      "metadata": {},
      "outputs": [
        {
          "name": "stdout",
          "output_type": "stream",
          "text": [
            "(37354, 15)\n"
          ]
        },
        {
          "data": {
            "text/html": [
              "<div>\n",
              "<style scoped>\n",
              "    .dataframe tbody tr th:only-of-type {\n",
              "        vertical-align: middle;\n",
              "    }\n",
              "\n",
              "    .dataframe tbody tr th {\n",
              "        vertical-align: top;\n",
              "    }\n",
              "\n",
              "    .dataframe thead th {\n",
              "        text-align: right;\n",
              "    }\n",
              "</style>\n",
              "<table border=\"1\" class=\"dataframe\">\n",
              "  <thead>\n",
              "    <tr style=\"text-align: right;\">\n",
              "      <th></th>\n",
              "      <th>credit_limit</th>\n",
              "      <th>education</th>\n",
              "      <th>age</th>\n",
              "      <th>late_jul</th>\n",
              "      <th>bill_sep</th>\n",
              "      <th>prev_payment_sep</th>\n",
              "      <th>prev_payment_aug</th>\n",
              "      <th>prev_payment_jul</th>\n",
              "      <th>prev_payment_jun</th>\n",
              "      <th>prev_payment_may</th>\n",
              "      <th>prev_payment_apr</th>\n",
              "      <th>total_default</th>\n",
              "      <th>sex_female</th>\n",
              "      <th>marital_status_single</th>\n",
              "      <th>marital_status_other</th>\n",
              "    </tr>\n",
              "  </thead>\n",
              "  <tbody>\n",
              "    <tr>\n",
              "      <th>0</th>\n",
              "      <td>80000.0</td>\n",
              "      <td>2.0</td>\n",
              "      <td>24</td>\n",
              "      <td>0</td>\n",
              "      <td>75125.0</td>\n",
              "      <td>3503.0</td>\n",
              "      <td>5001.0</td>\n",
              "      <td>2092.0</td>\n",
              "      <td>1218.0</td>\n",
              "      <td>1445.0</td>\n",
              "      <td>878.0</td>\n",
              "      <td>0</td>\n",
              "      <td>1</td>\n",
              "      <td>1</td>\n",
              "      <td>0</td>\n",
              "    </tr>\n",
              "    <tr>\n",
              "      <th>1</th>\n",
              "      <td>30000.0</td>\n",
              "      <td>2.0</td>\n",
              "      <td>28</td>\n",
              "      <td>0</td>\n",
              "      <td>29242.0</td>\n",
              "      <td>5006.0</td>\n",
              "      <td>1244.0</td>\n",
              "      <td>851.0</td>\n",
              "      <td>955.0</td>\n",
              "      <td>0.0</td>\n",
              "      <td>0.0</td>\n",
              "      <td>0</td>\n",
              "      <td>0</td>\n",
              "      <td>1</td>\n",
              "      <td>0</td>\n",
              "    </tr>\n",
              "    <tr>\n",
              "      <th>2</th>\n",
              "      <td>180000.0</td>\n",
              "      <td>0.0</td>\n",
              "      <td>44</td>\n",
              "      <td>-1</td>\n",
              "      <td>20916.0</td>\n",
              "      <td>0.0</td>\n",
              "      <td>850.0</td>\n",
              "      <td>0.0</td>\n",
              "      <td>6881.0</td>\n",
              "      <td>10340.0</td>\n",
              "      <td>182.0</td>\n",
              "      <td>0</td>\n",
              "      <td>1</td>\n",
              "      <td>0</td>\n",
              "      <td>0</td>\n",
              "    </tr>\n",
              "    <tr>\n",
              "      <th>3</th>\n",
              "      <td>60000.0</td>\n",
              "      <td>3.0</td>\n",
              "      <td>25</td>\n",
              "      <td>0</td>\n",
              "      <td>58839.0</td>\n",
              "      <td>2018.0</td>\n",
              "      <td>1900.0</td>\n",
              "      <td>2000.0</td>\n",
              "      <td>1500.0</td>\n",
              "      <td>1900.0</td>\n",
              "      <td>2000.0</td>\n",
              "      <td>0</td>\n",
              "      <td>0</td>\n",
              "      <td>1</td>\n",
              "      <td>0</td>\n",
              "    </tr>\n",
              "    <tr>\n",
              "      <th>4</th>\n",
              "      <td>130000.0</td>\n",
              "      <td>2.0</td>\n",
              "      <td>25</td>\n",
              "      <td>0</td>\n",
              "      <td>111587.0</td>\n",
              "      <td>4100.0</td>\n",
              "      <td>4200.0</td>\n",
              "      <td>5000.0</td>\n",
              "      <td>5000.0</td>\n",
              "      <td>5000.0</td>\n",
              "      <td>10700.0</td>\n",
              "      <td>0</td>\n",
              "      <td>1</td>\n",
              "      <td>1</td>\n",
              "      <td>0</td>\n",
              "    </tr>\n",
              "  </tbody>\n",
              "</table>\n",
              "</div>"
            ],
            "text/plain": [
              "   credit_limit  education  age  late_jul  bill_sep  prev_payment_sep  \\\n",
              "0       80000.0        2.0   24         0   75125.0            3503.0   \n",
              "1       30000.0        2.0   28         0   29242.0            5006.0   \n",
              "2      180000.0        0.0   44        -1   20916.0               0.0   \n",
              "3       60000.0        3.0   25         0   58839.0            2018.0   \n",
              "4      130000.0        2.0   25         0  111587.0            4100.0   \n",
              "\n",
              "   prev_payment_aug  prev_payment_jul  prev_payment_jun  prev_payment_may  \\\n",
              "0            5001.0            2092.0            1218.0            1445.0   \n",
              "1            1244.0             851.0             955.0               0.0   \n",
              "2             850.0               0.0            6881.0           10340.0   \n",
              "3            1900.0            2000.0            1500.0            1900.0   \n",
              "4            4200.0            5000.0            5000.0            5000.0   \n",
              "\n",
              "   prev_payment_apr  total_default  sex_female  marital_status_single  \\\n",
              "0             878.0              0           1                      1   \n",
              "1               0.0              0           0                      1   \n",
              "2             182.0              0           1                      0   \n",
              "3            2000.0              0           0                      1   \n",
              "4           10700.0              0           1                      1   \n",
              "\n",
              "   marital_status_other  \n",
              "0                     0  \n",
              "1                     0  \n",
              "2                     0  \n",
              "3                     0  \n",
              "4                     0  "
            ]
          },
          "execution_count": 249,
          "metadata": {},
          "output_type": "execute_result"
        }
      ],
      "source": [
        "print(X_train.shape)\n",
        "X_train.head()"
      ]
    },
    {
      "cell_type": "code",
      "execution_count": 250,
      "metadata": {},
      "outputs": [],
      "source": [
        "X_train.to_csv(f\"{file_path}/X_train.csv\", index=False)"
      ]
    },
    {
      "attachments": {},
      "cell_type": "markdown",
      "metadata": {},
      "source": [
        "Again, we can see the target variable has already undergone transformation from the data cleaning and feature engineering pipeline - i.e., the column name has been changed to conform to snake case naming conventions:"
      ]
    },
    {
      "cell_type": "code",
      "execution_count": 251,
      "metadata": {},
      "outputs": [
        {
          "data": {
            "text/plain": [
              "0    0\n",
              "1    0\n",
              "2    0\n",
              "3    0\n",
              "4    0\n",
              "Name: default_next_month, dtype: int64"
            ]
          },
          "execution_count": 251,
          "metadata": {},
          "output_type": "execute_result"
        }
      ],
      "source": [
        "y_train.head()"
      ]
    },
    {
      "cell_type": "code",
      "execution_count": 252,
      "metadata": {},
      "outputs": [],
      "source": [
        "y_train.to_csv(f\"{file_path}/y_train.csv\", index=False)"
      ]
    },
    {
      "attachments": {},
      "cell_type": "markdown",
      "metadata": {},
      "source": [
        "## Test Set"
      ]
    },
    {
      "attachments": {},
      "cell_type": "markdown",
      "metadata": {},
      "source": [
        "As with the train set, note that the variables are already transformed. The test set does not undergo balancing of the target variable since the model is not trained on it, so the note above about SMOTE does not apply here."
      ]
    },
    {
      "cell_type": "code",
      "execution_count": 253,
      "metadata": {},
      "outputs": [
        {
          "name": "stdout",
          "output_type": "stream",
          "text": [
            "(6000, 15)\n"
          ]
        },
        {
          "data": {
            "text/html": [
              "<div>\n",
              "<style scoped>\n",
              "    .dataframe tbody tr th:only-of-type {\n",
              "        vertical-align: middle;\n",
              "    }\n",
              "\n",
              "    .dataframe tbody tr th {\n",
              "        vertical-align: top;\n",
              "    }\n",
              "\n",
              "    .dataframe thead th {\n",
              "        text-align: right;\n",
              "    }\n",
              "</style>\n",
              "<table border=\"1\" class=\"dataframe\">\n",
              "  <thead>\n",
              "    <tr style=\"text-align: right;\">\n",
              "      <th></th>\n",
              "      <th>credit_limit</th>\n",
              "      <th>education</th>\n",
              "      <th>age</th>\n",
              "      <th>late_jul</th>\n",
              "      <th>bill_sep</th>\n",
              "      <th>prev_payment_sep</th>\n",
              "      <th>prev_payment_aug</th>\n",
              "      <th>prev_payment_jul</th>\n",
              "      <th>prev_payment_jun</th>\n",
              "      <th>prev_payment_may</th>\n",
              "      <th>prev_payment_apr</th>\n",
              "      <th>total_default</th>\n",
              "      <th>sex_female</th>\n",
              "      <th>marital_status_single</th>\n",
              "      <th>marital_status_other</th>\n",
              "    </tr>\n",
              "  </thead>\n",
              "  <tbody>\n",
              "    <tr>\n",
              "      <th>2308</th>\n",
              "      <td>30000.0</td>\n",
              "      <td>2.0</td>\n",
              "      <td>25</td>\n",
              "      <td>0</td>\n",
              "      <td>8864.0</td>\n",
              "      <td>1500.0</td>\n",
              "      <td>2000.0</td>\n",
              "      <td>1500.0</td>\n",
              "      <td>1500.0</td>\n",
              "      <td>1500.0</td>\n",
              "      <td>2000.0</td>\n",
              "      <td>0</td>\n",
              "      <td>0</td>\n",
              "      <td>1</td>\n",
              "      <td>0</td>\n",
              "    </tr>\n",
              "    <tr>\n",
              "      <th>22404</th>\n",
              "      <td>150000.0</td>\n",
              "      <td>3.0</td>\n",
              "      <td>26</td>\n",
              "      <td>0</td>\n",
              "      <td>136736.0</td>\n",
              "      <td>4486.0</td>\n",
              "      <td>4235.0</td>\n",
              "      <td>3161.0</td>\n",
              "      <td>2647.0</td>\n",
              "      <td>2669.0</td>\n",
              "      <td>2669.0</td>\n",
              "      <td>0</td>\n",
              "      <td>1</td>\n",
              "      <td>1</td>\n",
              "      <td>0</td>\n",
              "    </tr>\n",
              "    <tr>\n",
              "      <th>23397</th>\n",
              "      <td>70000.0</td>\n",
              "      <td>1.0</td>\n",
              "      <td>32</td>\n",
              "      <td>0</td>\n",
              "      <td>70122.0</td>\n",
              "      <td>2431.0</td>\n",
              "      <td>3112.0</td>\n",
              "      <td>3000.0</td>\n",
              "      <td>2438.0</td>\n",
              "      <td>2500.0</td>\n",
              "      <td>2554.0</td>\n",
              "      <td>0</td>\n",
              "      <td>1</td>\n",
              "      <td>0</td>\n",
              "      <td>0</td>\n",
              "    </tr>\n",
              "    <tr>\n",
              "      <th>25058</th>\n",
              "      <td>130000.0</td>\n",
              "      <td>1.0</td>\n",
              "      <td>49</td>\n",
              "      <td>0</td>\n",
              "      <td>20678.0</td>\n",
              "      <td>1610.0</td>\n",
              "      <td>1808.0</td>\n",
              "      <td>7014.0</td>\n",
              "      <td>27.0</td>\n",
              "      <td>7011.0</td>\n",
              "      <td>4408.0</td>\n",
              "      <td>0</td>\n",
              "      <td>0</td>\n",
              "      <td>1</td>\n",
              "      <td>0</td>\n",
              "    </tr>\n",
              "    <tr>\n",
              "      <th>2664</th>\n",
              "      <td>50000.0</td>\n",
              "      <td>2.0</td>\n",
              "      <td>36</td>\n",
              "      <td>0</td>\n",
              "      <td>94228.0</td>\n",
              "      <td>2000.0</td>\n",
              "      <td>1500.0</td>\n",
              "      <td>1000.0</td>\n",
              "      <td>1800.0</td>\n",
              "      <td>0.0</td>\n",
              "      <td>1000.0</td>\n",
              "      <td>2</td>\n",
              "      <td>1</td>\n",
              "      <td>1</td>\n",
              "      <td>0</td>\n",
              "    </tr>\n",
              "  </tbody>\n",
              "</table>\n",
              "</div>"
            ],
            "text/plain": [
              "       credit_limit  education  age  late_jul  bill_sep  prev_payment_sep  \\\n",
              "2308        30000.0        2.0   25         0    8864.0            1500.0   \n",
              "22404      150000.0        3.0   26         0  136736.0            4486.0   \n",
              "23397       70000.0        1.0   32         0   70122.0            2431.0   \n",
              "25058      130000.0        1.0   49         0   20678.0            1610.0   \n",
              "2664        50000.0        2.0   36         0   94228.0            2000.0   \n",
              "\n",
              "       prev_payment_aug  prev_payment_jul  prev_payment_jun  prev_payment_may  \\\n",
              "2308             2000.0            1500.0            1500.0            1500.0   \n",
              "22404            4235.0            3161.0            2647.0            2669.0   \n",
              "23397            3112.0            3000.0            2438.0            2500.0   \n",
              "25058            1808.0            7014.0              27.0            7011.0   \n",
              "2664             1500.0            1000.0            1800.0               0.0   \n",
              "\n",
              "       prev_payment_apr  total_default  sex_female  marital_status_single  \\\n",
              "2308             2000.0              0           0                      1   \n",
              "22404            2669.0              0           1                      1   \n",
              "23397            2554.0              0           1                      0   \n",
              "25058            4408.0              0           0                      1   \n",
              "2664             1000.0              2           1                      1   \n",
              "\n",
              "       marital_status_other  \n",
              "2308                      0  \n",
              "22404                     0  \n",
              "23397                     0  \n",
              "25058                     0  \n",
              "2664                      0  "
            ]
          },
          "execution_count": 253,
          "metadata": {},
          "output_type": "execute_result"
        }
      ],
      "source": [
        "print(X_test.shape)\n",
        "X_test.head()"
      ]
    },
    {
      "cell_type": "code",
      "execution_count": 254,
      "metadata": {},
      "outputs": [],
      "source": [
        "X_test.to_csv(f\"{file_path}/X_test.csv\", index=False)"
      ]
    },
    {
      "cell_type": "code",
      "execution_count": 255,
      "metadata": {},
      "outputs": [
        {
          "data": {
            "text/plain": [
              "2308     0\n",
              "22404    0\n",
              "23397    0\n",
              "25058    0\n",
              "2664     1\n",
              "Name: default_next_month, dtype: int64"
            ]
          },
          "execution_count": 255,
          "metadata": {},
          "output_type": "execute_result"
        }
      ],
      "source": [
        "y_test.head()"
      ]
    },
    {
      "cell_type": "code",
      "execution_count": 256,
      "metadata": {},
      "outputs": [],
      "source": [
        "y_test.to_csv(f\"{file_path}/y_test.csv\", index=False)"
      ]
    },
    {
      "attachments": {},
      "cell_type": "markdown",
      "metadata": {},
      "source": [
        "## ML Pipelines"
      ]
    },
    {
      "attachments": {},
      "cell_type": "markdown",
      "metadata": {},
      "source": [
        "As noted above, 4 pipelines in total will be saved. If these were to be used to predict live data, the data cleaning and feature engineering pipeline would be used in conjunction with one of the others (probably '3' since this provides the best results of the three). However, we hope that a better feature scaling and modelling pipeline can be developed in the following notebook(s).\n",
        "\n",
        "Firstly, our pipeline responsible for data cleaning and feature engineering:"
      ]
    },
    {
      "cell_type": "code",
      "execution_count": 257,
      "metadata": {},
      "outputs": [
        {
          "data": {
            "text/plain": [
              "Pipeline(steps=[('drop', DropFeatures(features_to_drop=['ID'])),\n",
              "                ('rename_columns',\n",
              "                 FunctionTransformer(func=<function rename_columns at 0x0000025F15270790>)),\n",
              "                ('clean_categorical_data',\n",
              "                 FunctionTransformer(func=<function clean_categorical_data at 0x0000025F15270820>)),\n",
              "                ('add_default_summary',\n",
              "                 FunctionTransformer(func=<function default_summary at 0x0000025F15270AF...\n",
              "                               variables=['sex', 'marital_status'])),\n",
              "                ('ordinal_encode',\n",
              "                 FunctionTransformer(func=<function ordinal_encode_education at 0x0000025F15270550>)),\n",
              "                ('drop_after_cleaning',\n",
              "                 DropFeatures(features_to_drop=['late_sep', 'late_aug',\n",
              "                                                'late_jun', 'late_may',\n",
              "                                                'late_apr', 'bill_aug',\n",
              "                                                'bill_jul', 'bill_jun',\n",
              "                                                'bill_may', 'bill_apr',\n",
              "                                                'any_default',\n",
              "                                                'greatest_default',\n",
              "                                                'marital_status_married']))])"
            ]
          },
          "execution_count": 257,
          "metadata": {},
          "output_type": "execute_result"
        }
      ],
      "source": [
        "data_cleaning_and_feature_engineering_pipeline"
      ]
    },
    {
      "cell_type": "code",
      "execution_count": 259,
      "metadata": {},
      "outputs": [
        {
          "data": {
            "text/plain": [
              "['outputs/ml_pipeline/predict_default/v1/clf_data_cleaning_and_feature_engineering_pipeline.pkl']"
            ]
          },
          "execution_count": 259,
          "metadata": {},
          "output_type": "execute_result"
        }
      ],
      "source": [
        "joblib.dump(value=data_cleaning_and_feature_engineering_pipeline,\n",
        "            filename=f\"{file_path}/clf_data_cleaning_and_feature_engineering_pipeline.pkl\")"
      ]
    },
    {
      "attachments": {},
      "cell_type": "markdown",
      "metadata": {},
      "source": [
        "Then the pipelines responsible for feature scaling and modelling. Modelling pipeline 1:"
      ]
    },
    {
      "cell_type": "code",
      "execution_count": 260,
      "metadata": {},
      "outputs": [
        {
          "data": {
            "text/plain": [
              "Pipeline(steps=[('scaler', StandardScaler()),\n",
              "                ('feat_selection',\n",
              "                 SelectFromModel(estimator=ExtraTreesClassifier(random_state=0))),\n",
              "                ('model',\n",
              "                 ExtraTreesClassifier(max_features='sqrt', n_estimators=150,\n",
              "                                      random_state=0))])"
            ]
          },
          "execution_count": 260,
          "metadata": {},
          "output_type": "execute_result"
        }
      ],
      "source": [
        "pipeline_clf"
      ]
    },
    {
      "cell_type": "code",
      "execution_count": 261,
      "metadata": {},
      "outputs": [
        {
          "data": {
            "text/plain": [
              "['outputs/ml_pipeline/predict_default/v1/clf_pipeline_model_1.pkl']"
            ]
          },
          "execution_count": 261,
          "metadata": {},
          "output_type": "execute_result"
        }
      ],
      "source": [
        "joblib.dump(value=pipeline_clf,\n",
        "            filename=f\"{file_path}/clf_pipeline_model_1.pkl\")"
      ]
    },
    {
      "attachments": {},
      "cell_type": "markdown",
      "metadata": {},
      "source": [
        "Modelling pipeline 2:"
      ]
    },
    {
      "cell_type": "code",
      "execution_count": 262,
      "metadata": {},
      "outputs": [
        {
          "data": {
            "text/plain": [
              "['outputs/ml_pipeline/predict_default/v1/clf_pipeline_model_2.pkl']"
            ]
          },
          "execution_count": 262,
          "metadata": {},
          "output_type": "execute_result"
        }
      ],
      "source": [
        "joblib.dump(value=pipeline_clf_2,\n",
        "            filename=f\"{file_path}/clf_pipeline_model_2.pkl\")"
      ]
    },
    {
      "attachments": {},
      "cell_type": "markdown",
      "metadata": {},
      "source": [
        "Modelling pipeline 3:"
      ]
    },
    {
      "cell_type": "code",
      "execution_count": 263,
      "metadata": {},
      "outputs": [
        {
          "data": {
            "text/plain": [
              "['outputs/ml_pipeline/predict_default/v1/clf_pipeline_model_3.pkl']"
            ]
          },
          "execution_count": 263,
          "metadata": {},
          "output_type": "execute_result"
        }
      ],
      "source": [
        "joblib.dump(value=pipeline_clf_3,\n",
        "            filename=f\"{file_path}/clf_pipeline_model_3.pkl\")"
      ]
    },
    {
      "attachments": {},
      "cell_type": "markdown",
      "metadata": {},
      "source": [
        "## Feature Importance plots"
      ]
    },
    {
      "attachments": {},
      "cell_type": "markdown",
      "metadata": {},
      "source": [
        "As we have three pipelines, we also have three feature importance plots. Feature importance plot 1:"
      ]
    },
    {
      "cell_type": "code",
      "execution_count": 264,
      "metadata": {},
      "outputs": [
        {
          "data": {
            "image/png": "[encoded data removed]",
            "text/plain": [
              "<Figure size 640x480 with 1 Axes>"
            ]
          },
          "metadata": {},
          "output_type": "display_data"
        }
      ],
      "source": [
        "df_feature_importance.plot(kind='bar',x='Feature',y='Importance')\n",
        "plt.show()"
      ]
    },
    {
      "cell_type": "code",
      "execution_count": 266,
      "metadata": {},
      "outputs": [
        {
          "data": {
            "image/png": "[encoded data removed]",
            "text/plain": [
              "<Figure size 640x480 with 1 Axes>"
            ]
          },
          "metadata": {},
          "output_type": "display_data"
        }
      ],
      "source": [
        "df_feature_importance.plot(kind='bar', x='Feature', y='Importance')\n",
        "plt.savefig(f'{file_path}/features_importance_1.png', bbox_inches='tight')"
      ]
    },
    {
      "attachments": {},
      "cell_type": "markdown",
      "metadata": {},
      "source": [
        "Feature Importance plot 2:"
      ]
    },
    {
      "cell_type": "code",
      "execution_count": 267,
      "metadata": {},
      "outputs": [
        {
          "data": {
            "image/png": "[encoded data removed]",
            "text/plain": [
              "<Figure size 640x480 with 1 Axes>"
            ]
          },
          "metadata": {},
          "output_type": "display_data"
        }
      ],
      "source": [
        "df_feature_importance_2.plot(kind='bar',x='Feature',y='Importance')\n",
        "plt.show()"
      ]
    },
    {
      "cell_type": "code",
      "execution_count": 268,
      "metadata": {},
      "outputs": [
        {
          "data": {
            "image/png": "[encoded data removed]",
            "text/plain": [
              "<Figure size 640x480 with 1 Axes>"
            ]
          },
          "metadata": {},
          "output_type": "display_data"
        }
      ],
      "source": [
        "df_feature_importance_2.plot(kind='bar', x='Feature', y='Importance')\n",
        "plt.savefig(f'{file_path}/features_importance_2.png', bbox_inches='tight')"
      ]
    },
    {
      "attachments": {},
      "cell_type": "markdown",
      "metadata": {},
      "source": [
        "Feature Importance plot 3:"
      ]
    },
    {
      "cell_type": "code",
      "execution_count": 269,
      "metadata": {},
      "outputs": [
        {
          "data": {
            "image/png": "[encoded data removed]",
            "text/plain": [
              "<Figure size 640x480 with 1 Axes>"
            ]
          },
          "metadata": {},
          "output_type": "display_data"
        }
      ],
      "source": [
        "df_feature_importance_3.plot(kind='bar',x='Feature',y='Importance')\n",
        "plt.show()"
      ]
    },
    {
      "cell_type": "code",
      "execution_count": 270,
      "metadata": {},
      "outputs": [
        {
          "data": {
            "image/png": "[encoded data removed]",
            "text/plain": [
              "<Figure size 640x480 with 1 Axes>"
            ]
          },
          "metadata": {},
          "output_type": "display_data"
        }
      ],
      "source": [
        "df_feature_importance_3.plot(kind='bar', x='Feature', y='Importance')\n",
        "plt.savefig(f'{file_path}/features_importance_3.png', bbox_inches='tight')"
      ]
    },
    {
      "cell_type": "code",
      "execution_count": null,
      "metadata": {},
      "outputs": [],
      "source": []
    }
  ],
  "metadata": {
    "accelerator": "GPU",
    "colab": {
      "name": "Data Practitioner Jupyter Notebook.ipynb",
      "provenance": [],
      "toc_visible": true
    },
    "interpreter": {
      "hash": "8b8334dab9339717f727a1deaf837b322d7a41c20d15cc86be99a8e69ceec8ce"
    },
    "kernelspec": {
      "display_name": "Python 3.8.12 64-bit ('3.8.12': pyenv)",
      "name": "python3"
    },
    "language_info": {
      "codemirror_mode": {
        "name": "ipython",
        "version": 3
      },
      "file_extension": ".py",
      "mimetype": "text/x-python",
      "name": "python",
      "nbconvert_exporter": "python",
      "pygments_lexer": "ipython3",
      "version": "3.8.12"
    },
    "orig_nbformat": 2
  },
  "nbformat": 4,
  "nbformat_minor": 2
}
